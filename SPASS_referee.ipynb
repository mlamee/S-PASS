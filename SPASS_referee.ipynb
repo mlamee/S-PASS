{
 "cells": [
  {
   "cell_type": "code",
   "execution_count": 2,
   "metadata": {
    "collapsed": false
   },
   "outputs": [
    {
     "name": "stderr",
     "output_type": "stream",
     "text": [
      "[INFO] Start server at: ipc:///tmp/graphlab_server-25499-1468013289 - Server binary: /Users/Mehdi/anaconda/lib/python2.7/site-packages/sframe/unity_server - Server log: /tmp/sframe_server_1468013289.log\n",
      "[INFO] GraphLab Server Version: 1.8\n"
     ]
    }
   ],
   "source": [
    "import numpy as np\n",
    "import sframe as sf\n",
    "from scipy import stats\n",
    "import matplotlib.pyplot as plt\n",
    "%matplotlib inline\n"
   ]
  },
  {
   "cell_type": "code",
   "execution_count": 2,
   "metadata": {
    "collapsed": false
   },
   "outputs": [
    {
     "name": "stdout",
     "output_type": "stream",
     "text": [
      "PROGRESS: Finished parsing file /Users/Mehdi/Dropbox/SPASS/main/SPASS-NVSS-final.csv\n",
      "PROGRESS: Parsing completed. Parsed 100 lines in 0.029278 secs.\n",
      "------------------------------------------------------\n",
      "Inferred types from first line of file as \n",
      "column_type_hints=[str,float,float,float,float,float,float,float,float,float,float,int,float,float,float,int,float,int,float,float,float,float,float,float,int,float,float,float,float,float,float,float,float,float,float,float,float,float,int,float,float,float,float,float,float,float,float,float,float,float,float]\n",
      "If parsing fails due to incorrect types, you can correct\n",
      "the inferred type list above and pass it to read_csv in\n",
      "the column_type_hints argument\n",
      "------------------------------------------------------\n",
      "PROGRESS: Finished parsing file /Users/Mehdi/Dropbox/SPASS/main/SPASS-NVSS-final.csv\n",
      "PROGRESS: Parsing completed. Parsed 533 lines in 0.012671 secs.\n",
      "+----------------+----------+-----------+-----------+-----------+---------+\n",
      "|      Tag       |    RA    |    DEC    |    GLon   |    GLat   |   I_NV  |\n",
      "+----------------+----------+-----------+-----------+-----------+---------+\n",
      "| J043736-295405 | 69.40246 | -29.90147 | 230.26648 |  -40.7423 | 1124.77 |\n",
      "| J043300-295613 | 68.25158 | -29.93694 | 230.05385 | -41.72754 | 1116.89 |\n",
      "| J045514-300647 | 73.80962 | -30.11311 | 231.56537 |  -37.0562 | 3446.27 |\n",
      "| J001035-302745 | 2.64867  | -30.46275 |  10.08143 | -80.45551 |  347.27 |\n",
      "| J235935-313341 | 359.8978 | -31.56164 |  8.40692  | -77.87329 |  350.48 |\n",
      "| J001259-395425 | 3.24979  | -39.90714 | 332.45776 | -74.93929 |  493.6  |\n",
      "| J000020-322059 | 0.08471  | -32.34972 |  4.64173  | -77.75222 |  520.9  |\n",
      "| J010403-395023 | 16.01592 | -39.83972 | 292.08127 | -77.02134 |  850.21 |\n",
      "| J001217-332157 | 3.07483  | -33.36606 | 354.11316 |  -79.5038 |  857.65 |\n",
      "| J010925-344715 | 17.35683 | -34.78758 | 277.33636 | -81.42731 | 1020.57 |\n",
      "+----------------+----------+-----------+-----------+-----------+---------+\n",
      "+----------+--------+----------+--------+-----------+-----------+------------+\n",
      "| I_NV_err |  P_NV  | P_NV_err | Pi_NV  | Pi_NV_err | Pi_NV_lim | NV_pol_ang |\n",
      "+----------+--------+----------+--------+-----------+-----------+------------+\n",
      "|   38.2   |  34.1  |   0.3    | 0.0303 |   0.0011  |     1     |  -43.445   |\n",
      "|   36.4   | 63.66  |   0.3    | 0.057  |   0.0019  |     1     |  -89.5095  |\n",
      "|  107.6   | 140.08 |   0.32   | 0.0406 |   0.0013  |     1     |  -83.8585  |\n",
      "|   9.5    |  2.87  |   0.31   | 0.0083 |   0.0009  |     1     |  62.0097   |\n",
      "|   10.4   |  5.21  |   0.29   | 0.0149 |   0.0009  |     1     |  -45.4939  |\n",
      "|   17.4   | 12.24  |   0.31   | 0.0248 |   0.0011  |     1     |  -66.5239  |\n",
      "|   15.6   |  1.16  |   0.31   | 0.0022 |   0.0006  |     1     |  -14.6659  |\n",
      "|   24.1   | 102.35 |   0.35   | 0.1204 |   0.0034  |     1     |  85.2145   |\n",
      "|   25.5   |  22.3  |   0.31   | 0.026  |   0.0009  |     1     |  -82.4367  |\n",
      "|   30.6   |  8.8   |   0.24   | 0.0086 |   0.0003  |     1     |  -8.6207   |\n",
      "+----------+--------+----------+--------+-----------+-----------+------------+\n",
      "+----------------+------+--------+------+--------+---------+----------+--------+\n",
      "| NV_pol_ang_err |  Mj  | Mj_lim |  Mn  | Mn_lim |   I_SP  | I_SP_err |  P_SP  |\n",
      "+----------------+------+--------+------+--------+---------+----------+--------+\n",
      "|     0.2772     | 17.2 |   -1   | 16.0 |   1    |  953.27 |  13.25   |  9.4   |\n",
      "|     0.1395     | 37.0 |   -1   | 18.0 |   1    |  634.77 |  11.82   | 45.42  |\n",
      "|     0.0674     | 61.1 |   -1   | 17.0 |   1    | 2100.51 |  10.75   | 101.83 |\n",
      "|     3.1054     | 17.4 |   1    | 15.0 |   1    |  598.41 |  12.21   |  0.75  |\n",
      "|     1.6462     | 18.1 |   1    | 16.0 |   1    |  799.86 |  14.64   |  4.21  |\n",
      "|     0.7239     | 14.4 |   -1   | 17.0 |   1    |  896.93 |  10.68   |  2.48  |\n",
      "|     7.3172     | 19.5 |   1    | 16.0 |   1    |  541.94 |  12.32   |  3.31  |\n",
      "|     0.0925     | 54.6 |   -1   | 19.0 |   1    |  521.99 |   16.0   | 57.25  |\n",
      "|     0.4102     | 19.0 |   1    | 18.0 |   1    |  507.93 |  10.39   | 11.37  |\n",
      "|     0.7808     | 18.5 |   1    | 17.0 |   1    |  627.05 |  13.03   |  6.99  |\n",
      "+----------------+------+--------+------+--------+---------+----------+--------+\n",
      "+----------+--------+-----------+-----------+------------+----------------+\n",
      "| P_SP_err | Pi_SP  | Pi_SP_err | Pi_SP_lim | SP_pol_ang | SP_pol_ang_err |\n",
      "+----------+--------+-----------+-----------+------------+----------------+\n",
      "|   2.1    | 0.0099 |   0.0022  |     1     |  -33.7039  |     5.4703     |\n",
      "|   2.03   | 0.0716 |   0.0035  |     1     |  53.2506   |     1.1876     |\n",
      "|   1.93   | 0.0485 |   0.001   |     1     |  -89.8678  |      0.54      |\n",
      "|   4.03   | 0.0082 |   0.0067  |     -1    |  -1000.0   |    -1000.0     |\n",
      "|   1.86   | 0.0065 |   0.0023  |     -1    |  -1000.0   |    -1000.0     |\n",
      "|   1.92   | 0.0056 |   0.0021  |     -1    |  -1000.0   |    -1000.0     |\n",
      "|   1.95   | 0.009  |   0.0036  |     -1    |  -1000.0   |    -1000.0     |\n",
      "|   1.78   | 0.1097 |   0.0048  |     1     |  57.9738   |     0.8412     |\n",
      "|   1.6    | 0.0224 |   0.0032  |     1     |  68.9805   |     3.9227     |\n",
      "|   1.73   | 0.0111 |   0.0028  |     1     |  -9.4064   |     6.8684     |\n",
      "+----------+--------+-----------+-----------+------------+----------------+\n",
      "+-------+-----------+-------+-----------+---------+----------+---------+-----------+\n",
      "| Alpha | Alpha_err | Depol | Depol_err |   RM_T  | RM_T_err |  RM_NS  | RM_NS_err |\n",
      "+-------+-----------+-------+-----------+---------+----------+---------+-----------+\n",
      "| -0.33 |    0.05   |  0.33 |    0.07   |   -0.7  |   3.05   |  -5.91  |    3.33   |\n",
      "| -1.14 |    0.05   |  1.26 |    0.07   |   16.0  |   1.46   |  22.61  |    0.73   |\n",
      "|  -1.0 |    0.04   |  1.19 |    0.04   |   1.4   |   1.22   |   3.65  |    0.33   |\n",
      "|  1.1  |    0.05   |  0.99 |    0.0    | -1000.0 | -1000.0  | -1000.0 |  -1000.0  |\n",
      "|  1.66 |    0.05   |  0.44 |    0.0    | -1000.0 | -1000.0  | -1000.0 |  -1000.0  |\n",
      "|  1.2  |    0.05   |  0.22 |    0.0    | -1000.0 | -1000.0  | -1000.0 |  -1000.0  |\n",
      "|  0.08 |    0.05   |  4.05 |    0.0    | -1000.0 | -1000.0  | -1000.0 |  -1000.0  |\n",
      "| -0.98 |    0.06   |  0.91 |    0.05   |   13.3  |   0.98   |  16.54  |    0.51   |\n",
      "| -1.06 |    0.05   |  0.86 |    0.13   |   14.1  |   4.27   |  17.35  |    2.39   |\n",
      "| -0.98 |    0.05   |  1.29 |    0.33   |   5.9   |   7.93   |   0.48  |    4.2    |\n",
      "+-------+-----------+-------+-----------+---------+----------+---------+-----------+\n",
      "+---------+-------------+---------+-----------+----------+---------+---------+\n",
      "| DeltaRM | DeltaRM_err | MedRM_T | Num_MedRM | redshift |    W1   |   W1er  |\n",
      "+---------+-------------+---------+-----------+----------+---------+---------+\n",
      "|  -5.21  |     4.51    |   21.9  |     33    |  1.328   |  12.52  |   0.02  |\n",
      "|   6.61  |     1.63    |   18.4  |     33    | -1000.0  | -1000.0 | -1000.0 |\n",
      "|   2.25  |     1.26    |   21.9  |     31    | -1000.0  |  13.94  |   0.03  |\n",
      "| -1000.0 |   -1000.0   | -1000.0 |   -1000   | -1000.0  |   14.8  |   0.03  |\n",
      "| -1000.0 |   -1000.0   | -1000.0 |   -1000   |  0.9903  |  14.58  |   0.03  |\n",
      "| -1000.0 |   -1000.0   | -1000.0 |   -1000   | -1000.0  |  13.81  |   0.02  |\n",
      "| -1000.0 |   -1000.0   | -1000.0 |   -1000   | -1000.0  |  14.81  |   0.03  |\n",
      "|   3.24  |     1.1     |   5.5   |     27    |  0.1076  |  13.86  |   0.03  |\n",
      "|   3.25  |     4.9     |   4.7   |     36    | -1000.0  | -1000.0 | -1000.0 |\n",
      "|  -5.42  |     8.97    |   4.1   |     36    | -1000.0  |  15.71  |   0.04  |\n",
      "+---------+-------------+---------+-----------+----------+---------+---------+\n",
      "+---------+---------+---------+---------+---------+---------+---------+---------+-----+\n",
      "|  W1snr  |    W2   |   W2er  |  W2snr  |    W3   |   W3er  |  W3snr  |    W4   | ... |\n",
      "+---------+---------+---------+---------+---------+---------+---------+---------+-----+\n",
      "|   47.4  |  11.61  |   0.02  |   50.0  |   9.03  |   0.03  |   41.3  |   6.68  | ... |\n",
      "| -1000.0 | -1000.0 | -1000.0 | -1000.0 | -1000.0 | -1000.0 | -1000.0 | -1000.0 | ... |\n",
      "|   41.2  |  13.47  |   0.03  |   37.9  |  11.17  |   0.11  |   10.2  |   8.5   | ... |\n",
      "|   33.7  |  13.78  |   0.04  |   30.6  |  10.75  |   0.1   |   11.0  |   8.06  | ... |\n",
      "|   36.8  |  13.55  |   0.03  |   33.9  |  10.59  |   0.09  |   12.1  |   7.98  | ... |\n",
      "|   44.5  |  12.78  |   0.02  |   44.7  |   9.89  |   0.04  |   26.1  |   7.54  | ... |\n",
      "|   34.3  |  13.46  |   0.03  |   34.8  |   10.2  |   0.07  |   16.1  |   7.73  | ... |\n",
      "|   43.2  |  13.68  |   0.03  |   34.2  |  12.56  | -1000.0 |   0.4   |   9.05  | ... |\n",
      "| -1000.0 | -1000.0 | -1000.0 | -1000.0 | -1000.0 | -1000.0 | -1000.0 | -1000.0 | ... |\n",
      "|   26.3  |  15.37  |   0.08  |   13.0  |   12.1  | -1000.0 |   1.5   |   8.85  | ... |\n",
      "+---------+---------+---------+---------+---------+---------+---------+---------+-----+\n",
      "[533 rows x 51 columns]\n",
      "\n"
     ]
    }
   ],
   "source": [
    "All=sf.SFrame.read_csv('/Users/Mehdi/Dropbox/SPASS/main/SPASS-NVSS-final.csv',skiprows=52)#,  tag,ra, dec, gl, gb, fct, ferr, nvp1, nvp1er, nvfp, nvfper, nvlim, thnv2, thnv2er, mj, lmj, mn, lmn, fspfit, efspi, fsp_p3s, efsp_p3s, spfp,spfper, splim, thsp2, thsp2er, al, aler, depol, der, rmt2, rmt2er, rm2 ,rm2er , drm2 , drm2er,format=fmt\n",
    "All.print_rows(10,50)"
   ]
  },
  {
   "cell_type": "code",
   "execution_count": 33,
   "metadata": {
    "collapsed": false
   },
   "outputs": [
    {
     "name": "stdout",
     "output_type": "stream",
     "text": [
      "0.0581395348837\n"
     ]
    }
   ],
   "source": [
    "print np.median(All['Alpha_err'].to_numpy()/np.abs(All['Alpha'].to_numpy()))"
   ]
  },
  {
   "cell_type": "code",
   "execution_count": 204,
   "metadata": {
    "collapsed": false
   },
   "outputs": [
    {
     "name": "stdout",
     "output_type": "stream",
     "text": [
      "1.59\n"
     ]
    }
   ],
   "source": [
    "rmer=All['RM_NS_err'].to_numpy()\n",
    "rm=All['RM_NS'].to_numpy()\n",
    "\n",
    "#print rmer\n",
    "id=np.where((rmer != -1e3) & (rmer-rmer ==0))\n",
    "id=id[0]\n",
    "print np.median(rmer[id])"
   ]
  },
  {
   "cell_type": "code",
   "execution_count": 50,
   "metadata": {
    "collapsed": false
   },
   "outputs": [
    {
     "name": "stdout",
     "output_type": "stream",
     "text": [
      "5\n"
     ]
    }
   ],
   "source": [
    "det=All[(All['Pi_NV_lim']==-1) & (All['Pi_SP_lim']==-1) & (All['Alpha'] >= -0.5)]\n",
    "print len(det['Depol'])"
   ]
  },
  {
   "cell_type": "code",
   "execution_count": 51,
   "metadata": {
    "collapsed": false
   },
   "outputs": [
    {
     "name": "stdout",
     "output_type": "stream",
     "text": [
      "# of steep with detected D is 315\n",
      "# of steep with detected PiSP and limit PiNV is 12\n",
      "# of steep with detected PiNV and limit PiSP is 58\n",
      "# of steep with limit PiNV and limit PiSP is 11\n",
      "# of flat with detected D is 101\n",
      "# of flat with detected PiNV and limit PiSP is 31\n",
      "# of flat with detected PiSP and limit PiNV is 0\n",
      "# of flat with limit PiNV and limit PiSP is 5\n"
     ]
    }
   ],
   "source": [
    "print '# of steep with detected D is 315'\n",
    "print '# of steep with detected PiSP and limit PiNV is 12'\n",
    "print '# of steep with detected PiNV and limit PiSP is 58'\n",
    "print '# of steep with limit PiNV and limit PiSP is 11'\n",
    "\n",
    "print '# of flat with detected D is 101'\n",
    "print '# of flat with detected PiNV and limit PiSP is 31'\n",
    "print '# of flat with detected PiSP and limit PiNV is 0'\n",
    "print '# of flat with limit PiNV and limit PiSP is 5'\n"
   ]
  },
  {
   "cell_type": "code",
   "execution_count": 71,
   "metadata": {
    "collapsed": false
   },
   "outputs": [
    {
     "name": "stdout",
     "output_type": "stream",
     "text": [
      "18.2\n",
      "363\n",
      "3.5966\n"
     ]
    }
   ],
   "source": [
    "rot=All[(All['RM_T']!=-1000) & (All['RM_NS']!=-1000) & (All['SP_pol_ang_err']-All['SP_pol_ang_err']==0)]\n",
    "print np.median(np.abs(rot['RM_T']))\n",
    "print len(np.abs(rot['RM_NS']))\n",
    "print np.median(1.4*rot['SP_pol_ang_err'])\n"
   ]
  },
  {
   "cell_type": "code",
   "execution_count": 61,
   "metadata": {
    "collapsed": false
   },
   "outputs": [
    {
     "data": {
      "image/png": "[encoded data removed]",
      "text/plain": [
       "<matplotlib.figure.Figure at 0x1127d6050>"
      ]
     },
     "metadata": {},
     "output_type": "display_data"
    }
   ],
   "source": [
    "b=np.arange(-100,100,0.1)\n",
    "drms=b+2.4\n",
    "k=0.0012\n",
    "a=(k+b)/(1-k*b)\n",
    "fig1=plt.plot(b,a)\n"
   ]
  },
  {
   "cell_type": "code",
   "execution_count": 72,
   "metadata": {
    "collapsed": false
   },
   "outputs": [
    {
     "name": "stdout",
     "output_type": "stream",
     "text": [
      "7.52899254936\n"
     ]
    }
   ],
   "source": [
    "vs=2.3\n",
    "vn=1.4\n",
    "al=np.log10(420.0/10.0)/np.log10(vs/vn)\n",
    "print al"
   ]
  },
  {
   "cell_type": "code",
   "execution_count": 83,
   "metadata": {
    "collapsed": false
   },
   "outputs": [
    {
     "data": {
      "image/png": "[encoded data removed]",
      "text/plain": [
       "<matplotlib.figure.Figure at 0x11236cc50>"
      ]
     },
     "metadata": {},
     "output_type": "display_data"
    }
   ],
   "source": [
    "i=np.arange(420,2000,5)\n",
    "p3sig0=100.0*5.1/i\n",
    "I_SP=All['I_SP']\n",
    "pisp=All['Pi_SP']\n",
    "p3sig=100.0*5.1/I_SP\n",
    "#fig2=plt.plot(I_SP,100.0*pisp,'g^')\n",
    "fig2=plt.plot(i,p3sig0,'b.')\n"
   ]
  },
  {
   "cell_type": "code",
   "execution_count": 99,
   "metadata": {
    "collapsed": false
   },
   "outputs": [
    {
     "name": "stdout",
     "output_type": "stream",
     "text": [
      "[-0.75443779 -0.51313262 -0.72704728 ..., -0.58011448 -0.68266046\n",
      " -0.65762362]\n"
     ]
    }
   ],
   "source": [
    "u1=np.arange(-100,100,0.1)\n",
    "q1=np.arange(-100,100,0.1)\n",
    "np.random.shuffle(q1)\n",
    "x1=0.5*np.arctan(u1/q1)\n",
    "print x1"
   ]
  },
  {
   "cell_type": "code",
   "execution_count": 44,
   "metadata": {
    "collapsed": false
   },
   "outputs": [
    {
     "name": "stdout",
     "output_type": "stream",
     "text": [
      "PROGRESS: Finished parsing file /Users/Mehdi/Dropbox/SPASS/main/SPASS-NVSS-final_withContamination.csv\n",
      "PROGRESS: Parsing completed. Parsed 100 lines in 0.031371 secs.\n",
      "------------------------------------------------------\n",
      "Inferred types from first line of file as \n",
      "column_type_hints=[str,float,float,float,float,float,float,float,float,float,float,int,float,float,float,int,float,int,float,float,float,float,float,float,int,float,float,float,float,float,float,float,float,float,float,float,float,float,int,float,float,float,float,float,float,float,float,float,float,float,float,float,float,float,int,float]\n",
      "If parsing fails due to incorrect types, you can correct\n",
      "the inferred type list above and pass it to read_csv in\n",
      "the column_type_hints argument\n",
      "------------------------------------------------------\n",
      "PROGRESS: Finished parsing file /Users/Mehdi/Dropbox/SPASS/main/SPASS-NVSS-final_withContamination.csv\n",
      "PROGRESS: Parsing completed. Parsed 533 lines in 0.013677 secs.\n",
      "+----------------+----------+-----------+-----------+-----------+---------+\n",
      "|      Tag       |    RA    |    DEC    |    GLon   |    GLat   |   I_NV  |\n",
      "+----------------+----------+-----------+-----------+-----------+---------+\n",
      "| J043736-295405 | 69.40246 | -29.90147 | 230.26648 |  -40.7423 | 1124.77 |\n",
      "| J043300-295613 | 68.25158 | -29.93694 | 230.05385 | -41.72754 | 1116.89 |\n",
      "| J045514-300647 | 73.80962 | -30.11311 | 231.56537 |  -37.0562 | 3446.27 |\n",
      "| J001035-302745 | 2.64867  | -30.46275 |  10.08143 | -80.45551 |  347.27 |\n",
      "| J235935-313341 | 359.8978 | -31.56164 |  8.40692  | -77.87329 |  350.48 |\n",
      "| J001259-395425 | 3.24979  | -39.90714 | 332.45776 | -74.93929 |  493.6  |\n",
      "| J000020-322059 | 0.08471  | -32.34972 |  4.64173  | -77.75222 |  520.9  |\n",
      "| J010403-395023 | 16.01592 | -39.83972 | 292.08127 | -77.02134 |  850.21 |\n",
      "| J001217-332157 | 3.07483  | -33.36606 | 354.11316 |  -79.5038 |  857.65 |\n",
      "| J010925-344715 | 17.35683 | -34.78758 | 277.33636 | -81.42731 | 1020.57 |\n",
      "+----------------+----------+-----------+-----------+-----------+---------+\n",
      "+----------+--------+----------+--------+-----------+-----------+------------+\n",
      "| I_NV_err |  P_NV  | P_NV_err | Pi_NV  | Pi_NV_err | Pi_NV_lim | NV_pol_ang |\n",
      "+----------+--------+----------+--------+-----------+-----------+------------+\n",
      "|   38.2   |  34.1  |   0.3    | 0.0303 |   0.0011  |     1     |  -43.445   |\n",
      "|   36.4   | 63.66  |   0.3    | 0.057  |   0.0019  |     1     |  -89.5095  |\n",
      "|  107.6   | 140.08 |   0.32   | 0.0406 |   0.0013  |     1     |  -83.8585  |\n",
      "|   9.5    |  2.87  |   0.31   | 0.0083 |   0.0009  |     1     |  62.0097   |\n",
      "|   10.4   |  5.21  |   0.29   | 0.0149 |   0.0009  |     1     |  -45.4939  |\n",
      "|   17.4   | 12.24  |   0.31   | 0.0248 |   0.0011  |     1     |  -66.5239  |\n",
      "|   15.6   |  1.16  |   0.31   | 0.0022 |   0.0006  |     1     |  -14.6659  |\n",
      "|   24.1   | 102.35 |   0.35   | 0.1204 |   0.0034  |     1     |  85.2145   |\n",
      "|   25.5   |  22.3  |   0.31   | 0.026  |   0.0009  |     1     |  -82.4367  |\n",
      "|   30.6   |  8.8   |   0.24   | 0.0086 |   0.0003  |     1     |  -8.6207   |\n",
      "+----------+--------+----------+--------+-----------+-----------+------------+\n",
      "+----------------+------+--------+------+--------+---------+----------+--------+\n",
      "| NV_pol_ang_err |  Mj  | Mj_lim |  Mn  | Mn_lim |   I_SP  | I_SP_err |  P_SP  |\n",
      "+----------------+------+--------+------+--------+---------+----------+--------+\n",
      "|     0.2772     | 17.2 |   -1   | 16.0 |   1    |  953.27 |  13.25   |  9.4   |\n",
      "|     0.1395     | 37.0 |   -1   | 18.0 |   1    |  634.77 |  11.82   | 45.42  |\n",
      "|     0.0674     | 61.1 |   -1   | 17.0 |   1    | 2100.51 |  10.75   | 101.83 |\n",
      "|     3.1054     | 17.4 |   1    | 15.0 |   1    |  598.41 |  12.21   |  0.75  |\n",
      "|     1.6462     | 18.1 |   1    | 16.0 |   1    |  799.86 |  14.64   |  4.21  |\n",
      "|     0.7239     | 14.4 |   -1   | 17.0 |   1    |  896.93 |  10.68   |  2.48  |\n",
      "|     7.3172     | 19.5 |   1    | 16.0 |   1    |  541.94 |  12.32   |  3.31  |\n",
      "|     0.0925     | 54.6 |   -1   | 19.0 |   1    |  521.99 |   16.0   | 57.25  |\n",
      "|     0.4102     | 19.0 |   1    | 18.0 |   1    |  507.93 |  10.39   | 11.37  |\n",
      "|     0.7808     | 18.5 |   1    | 17.0 |   1    |  627.05 |  13.03   |  6.99  |\n",
      "+----------------+------+--------+------+--------+---------+----------+--------+\n",
      "+----------+--------+-----------+-----------+------------+----------------+\n",
      "| P_SP_err | Pi_SP  | Pi_SP_err | Pi_SP_lim | SP_pol_ang | SP_pol_ang_err |\n",
      "+----------+--------+-----------+-----------+------------+----------------+\n",
      "|   2.1    | 0.0099 |   0.0022  |     1     |  -33.7039  |     5.4703     |\n",
      "|   2.03   | 0.0716 |   0.0035  |     1     |  53.2506   |     1.1876     |\n",
      "|   1.93   | 0.0485 |   0.001   |     1     |  -89.8678  |      0.54      |\n",
      "|   4.03   | 0.0082 |   0.0067  |     -1    |  -1000.0   |    -1000.0     |\n",
      "|   1.86   | 0.0065 |   0.0023  |     -1    |  -1000.0   |    -1000.0     |\n",
      "|   1.92   | 0.0056 |   0.0021  |     -1    |  -1000.0   |    -1000.0     |\n",
      "|   1.95   | 0.009  |   0.0036  |     -1    |  -1000.0   |    -1000.0     |\n",
      "|   1.78   | 0.1097 |   0.0048  |     1     |  57.9738   |     0.8412     |\n",
      "|   1.6    | 0.0224 |   0.0032  |     1     |  68.9805   |     3.9227     |\n",
      "|   1.73   | 0.0111 |   0.0028  |     1     |  -9.4064   |     6.8684     |\n",
      "+----------+--------+-----------+-----------+------------+----------------+\n",
      "+-------+-----------+-------+-----------+---------+----------+---------+-----------+\n",
      "| Alpha | Alpha_err | Depol | Depol_err |   RM_T  | RM_T_err |  RM_NS  | RM_NS_err |\n",
      "+-------+-----------+-------+-----------+---------+----------+---------+-----------+\n",
      "| -0.33 |    0.05   |  0.33 |    0.07   |   -0.7  |   3.05   |  -5.91  |    3.33   |\n",
      "| -1.14 |    0.05   |  1.26 |    0.07   |   16.0  |   1.46   |  22.61  |    0.73   |\n",
      "|  -1.0 |    0.04   |  1.19 |    0.04   |   1.4   |   1.22   |   3.65  |    0.33   |\n",
      "|  1.1  |    0.05   |  0.99 |    0.0    | -1000.0 | -1000.0  | -1000.0 |  -1000.0  |\n",
      "|  1.66 |    0.05   |  0.44 |    0.0    | -1000.0 | -1000.0  | -1000.0 |  -1000.0  |\n",
      "|  1.2  |    0.05   |  0.22 |    0.0    | -1000.0 | -1000.0  | -1000.0 |  -1000.0  |\n",
      "|  0.08 |    0.05   |  4.05 |    0.0    | -1000.0 | -1000.0  | -1000.0 |  -1000.0  |\n",
      "| -0.98 |    0.06   |  0.91 |    0.05   |   13.3  |   0.98   |  16.54  |    0.51   |\n",
      "| -1.06 |    0.05   |  0.86 |    0.13   |   14.1  |   4.27   |  17.35  |    2.39   |\n",
      "| -0.98 |    0.05   |  1.29 |    0.33   |   5.9   |   7.93   |   0.48  |    4.2    |\n",
      "+-------+-----------+-------+-----------+---------+----------+---------+-----------+\n",
      "+---------+-------------+---------+-----------+----------+---------+---------+\n",
      "| DeltaRM | DeltaRM_err | MedRM_T | Num_MedRM | redshift |    W1   |   W1er  |\n",
      "+---------+-------------+---------+-----------+----------+---------+---------+\n",
      "|  -5.21  |     4.51    |   21.9  |     33    |  1.328   |  12.52  |   0.02  |\n",
      "|   6.61  |     1.63    |   18.4  |     33    | -1000.0  | -1000.0 | -1000.0 |\n",
      "|   2.25  |     1.26    |   21.9  |     31    | -1000.0  |  13.94  |   0.03  |\n",
      "| -1000.0 |   -1000.0   | -1000.0 |   -1000   | -1000.0  |   14.8  |   0.03  |\n",
      "| -1000.0 |   -1000.0   | -1000.0 |   -1000   |  0.9903  |  14.58  |   0.03  |\n",
      "| -1000.0 |   -1000.0   | -1000.0 |   -1000   | -1000.0  |  13.81  |   0.02  |\n",
      "| -1000.0 |   -1000.0   | -1000.0 |   -1000   | -1000.0  |  14.81  |   0.03  |\n",
      "|   3.24  |     1.1     |   5.5   |     27    |  0.1076  |  13.86  |   0.03  |\n",
      "|   3.25  |     4.9     |   4.7   |     36    | -1000.0  | -1000.0 | -1000.0 |\n",
      "|  -5.42  |     8.97    |   4.1   |     36    | -1000.0  |  15.71  |   0.04  |\n",
      "+---------+-------------+---------+-----------+----------+---------+---------+\n",
      "+---------+---------+---------+---------+---------+---------+---------+---------+\n",
      "|  W1snr  |    W2   |   W2er  |  W2snr  |    W3   |   W3er  |  W3snr  |    W4   |\n",
      "+---------+---------+---------+---------+---------+---------+---------+---------+\n",
      "|   47.4  |  11.61  |   0.02  |   50.0  |   9.03  |   0.03  |   41.3  |   6.68  |\n",
      "| -1000.0 | -1000.0 | -1000.0 | -1000.0 | -1000.0 | -1000.0 | -1000.0 | -1000.0 |\n",
      "|   41.2  |  13.47  |   0.03  |   37.9  |  11.17  |   0.11  |   10.2  |   8.5   |\n",
      "|   33.7  |  13.78  |   0.04  |   30.6  |  10.75  |   0.1   |   11.0  |   8.06  |\n",
      "|   36.8  |  13.55  |   0.03  |   33.9  |  10.59  |   0.09  |   12.1  |   7.98  |\n",
      "|   44.5  |  12.78  |   0.02  |   44.7  |   9.89  |   0.04  |   26.1  |   7.54  |\n",
      "|   34.3  |  13.46  |   0.03  |   34.8  |   10.2  |   0.07  |   16.1  |   7.73  |\n",
      "|   43.2  |  13.68  |   0.03  |   34.2  |  12.56  | -1000.0 |   0.4   |   9.05  |\n",
      "| -1000.0 | -1000.0 | -1000.0 | -1000.0 | -1000.0 | -1000.0 | -1000.0 | -1000.0 |\n",
      "|   26.3  |  15.37  |   0.08  |   13.0  |   12.1  | -1000.0 |   1.5   |   8.85  |\n",
      "+---------+---------+---------+---------+---------+---------+---------+---------+\n",
      "+---------+-------+-------+-------------+------+--------------+\n",
      "|   W4er  |  Q_ct |  U_ct | I_NV_target | n_ct | P_NV_ct_frac |\n",
      "+---------+-------+-------+-------------+------+--------------+\n",
      "|   0.07  |  0.97 | -1.37 |    1090.7   |  4   |    0.0431    |\n",
      "| -1000.0 |  0.86 |  0.48 |    1104.4   |  10  |    0.0135    |\n",
      "|   0.25  | -0.34 |  0.39 |    3430.9   |  7   |    0.0018    |\n",
      "|   0.2   |  0.54 |  0.08 |    315.3    |  3   |    0.0905    |\n",
      "|   0.22  |  0.16 |  0.07 |    347.4    |  8   |    0.0146    |\n",
      "|   0.1   |  0.0  |  0.0  |    493.6    |  0   |    0.0003    |\n",
      "|   0.17  |  0.0  |  0.0  |    520.9    |  0   |    0.0055    |\n",
      "| -1000.0 |  3.15 |  0.92 |    758.6    |  18  |    0.0283    |\n",
      "| -1000.0 |  0.07 |  0.06 |    850.9    |  3   |    0.0038    |\n",
      "|   0.41  | -0.01 | -0.01 |    1019.1   |  4   |    0.0008    |\n",
      "+---------+-------+-------+-------------+------+--------------+\n",
      "[533 rows x 56 columns]\n",
      "\n"
     ]
    }
   ],
   "source": [
    "new=sf.SFrame.read_csv('/Users/Mehdi/Dropbox/SPASS/main/SPASS-NVSS-final_withContamination.csv',skiprows=57)#,  tag,ra, dec, gl, gb, fct, ferr, nvp1, nvp1er, nvfp, nvfper, nvlim, thnv2, thnv2er, mj, lmj, mn, lmn, fspfit, efspi, fsp_p3s, efsp_p3s, spfp,spfper, splim, thsp2, thsp2er, al, aler, depol, der, rmt2, rmt2er, rm2 ,rm2er , drm2 , drm2er,format=fmt\n",
    "new.print_rows(10,56)"
   ]
  },
  {
   "cell_type": "code",
   "execution_count": 45,
   "metadata": {
    "collapsed": true
   },
   "outputs": [],
   "source": [
    "# This function accepts  a Numpy arrays with N elements, and make a 1D array of M*N elements with random order. \n",
    "def randomize(x,M):\n",
    "    Xdeck=np.repeat(x,M,axis=0)\n",
    "    np.random.shuffle(Xdeck)\n",
    "    np.random.shuffle(Xdeck)\n",
    "    return Xdeck"
   ]
  },
  {
   "cell_type": "markdown",
   "metadata": {},
   "source": [
    "# Polarization contamination and Depolarization"
   ]
  },
  {
   "cell_type": "code",
   "execution_count": 126,
   "metadata": {
    "collapsed": false
   },
   "outputs": [
    {
     "name": "stdout",
     "output_type": "stream",
     "text": [
      "(41600000,)\n"
     ]
    },
    {
     "data": {
      "image/png": "[encoded data removed]",
      "text/plain": [
       "<matplotlib.figure.Figure at 0x1128b9ad0>"
      ]
     },
     "metadata": {},
     "output_type": "display_data"
    }
   ],
   "source": [
    "idgd=new[(new['Pi_SP_lim']==1) & (new['Pi_NV_lim']==1)]\n",
    "num=100000\n",
    "D_idgd=idgd['Depol'].to_numpy()\n",
    "logD=np.absolute(np.log10(D_idgd))\n",
    "pcont=idgd['P_NV_ct_frac'].to_numpy()\n",
    "logD_random=randomize(logD,num)\n",
    "print np.shape(logD_random)\n",
    "pcont_random=randomize(pcont,num)\n",
    "fig4=plt.plot(pcont,logD,'.')"
   ]
  },
  {
   "cell_type": "code",
   "execution_count": 127,
   "metadata": {
    "collapsed": false
   },
   "outputs": [
    {
     "name": "stdout",
     "output_type": "stream",
     "text": [
      "(0.16826923076923081, 0.0055371468628830963)\n",
      "Spearman rank correlation  0.170811354013\n",
      "Spearman p-value 0.000466747623861\n"
     ]
    }
   ],
   "source": [
    "med=np.median(pcont)\n",
    "half1=logD[np.where(pcont< med)]\n",
    "half2=logD[np.where(pcont>= med)]\n",
    "ks_main3=stats.mstats.ks_twosamp(half1,half2)\n",
    "print ks_main3\n",
    "rho3, spvalue3 =stats.spearmanr(pcont,logD)\n",
    "print 'Spearman rank correlation ', rho3\n",
    "print 'Spearman p-value', spvalue3"
   ]
  },
  {
   "cell_type": "code",
   "execution_count": 128,
   "metadata": {
    "collapsed": false
   },
   "outputs": [
    {
     "name": "stdout",
     "output_type": "stream",
     "text": [
      "Done!\n"
     ]
    }
   ],
   "source": [
    "ks1=np.zeros(num)-1\n",
    "pval=np.zeros(num)-1\n",
    "rho=np.zeros(num)-1\n",
    "sp_value=np.zeros(num)-1\n",
    "for i in range(num):\n",
    "    j=i*len(pcont)\n",
    "    pconti=pcont_random[j:j+len(pcont)]\n",
    "    logD1=logD_random[j:j+len(pcont)]\n",
    "    medi=np.median(pconti)\n",
    "    half1=logD1[np.where(pconti < medi )]\n",
    "    half2=logD1[np.where(pconti >= medi)]\n",
    "    res=stats.mstats.ks_twosamp(half1,half2)\n",
    "    ks1[i]=res[0]\n",
    "    pval[i]=res[1]\n",
    "    res2=stats.spearmanr(pconti,logD1)\n",
    "    rho[i] =res2[0]\n",
    "    sp_value[i]=res2[1]\n",
    "\n",
    "print 'Done!'"
   ]
  },
  {
   "cell_type": "code",
   "execution_count": 129,
   "metadata": {
    "collapsed": false
   },
   "outputs": [
    {
     "name": "stdout",
     "output_type": "stream",
     "text": [
      "The simulated p-vale for the KS statistic in |logD| based on P_NV_ct_frac  0.00423\n",
      "423\n",
      "The simulated p-vale for the Spearman rho in |logD| for the simulation is 0.0005\n",
      "50\n"
     ]
    }
   ],
   "source": [
    "howmany3=np.where(ks1 >=ks_main3[0])\n",
    "frac3=len(howmany3[0])/float(num)\n",
    "print 'The simulated p-vale for the KS statistic in |logD| based on P_NV_ct_frac ', frac3 \n",
    "print len(howmany3[0])\n",
    "\n",
    "howmany33=np.where(np.absolute(rho) >=rho3)\n",
    "frac33=len(howmany33[0])/float(num)\n",
    "print 'The simulated p-vale for the Spearman rho in |logD| for the simulation is', frac33 \n",
    "print len(howmany33[0])\n"
   ]
  },
  {
   "cell_type": "markdown",
   "metadata": {},
   "source": [
    "# Sample of both pol and int contamination less than 5%\n",
    "## $Pi_{SP}$ and $|log(D)|$"
   ]
  },
  {
   "cell_type": "code",
   "execution_count": 130,
   "metadata": {
    "collapsed": false
   },
   "outputs": [
    {
     "name": "stdout",
     "output_type": "stream",
     "text": [
      "(32300000,)\n"
     ]
    },
    {
     "data": {
      "image/png": "[encoded data removed]",
      "text/plain": [
       "<matplotlib.figure.Figure at 0x112654850>"
      ]
     },
     "metadata": {},
     "output_type": "display_data"
    }
   ],
   "source": [
    "lowcont=new[(new['Pi_SP_lim']==1) & (new['Pi_NV_lim']==1) & (new['P_NV_ct_frac'] <=0.05) & (new['I_NV']/new['I_NV_target'] <=1.05)]\n",
    "num=100000\n",
    "D_lowcont=lowcont['Depol'].to_numpy()\n",
    "logDlow=np.absolute(np.log10(D_lowcont))\n",
    "psplow=lowcont['Pi_SP'].to_numpy()\n",
    "logDlow_random=randomize(logDlow,num)\n",
    "print np.shape(logDlow_random)\n",
    "psplow_random=randomize(psplow,num)\n",
    "fig5=plt.plot(psplow,logDlow,'.')"
   ]
  },
  {
   "cell_type": "code",
   "execution_count": 131,
   "metadata": {
    "collapsed": false
   },
   "outputs": [
    {
     "name": "stdout",
     "output_type": "stream",
     "text": [
      "(0.24518825243462902, 0.000121487359401203)\n",
      "Spearman rank correlation  -0.249428118114\n",
      "Spearman p-value 5.69768010111e-06\n"
     ]
    }
   ],
   "source": [
    "med=np.median(psplow)\n",
    "half1=logDlow[np.where(psplow< med)]\n",
    "half2=logDlow[np.where(psplow>= med)]\n",
    "ks_main3=stats.mstats.ks_twosamp(half1,half2)\n",
    "print ks_main3\n",
    "rho3, spvalue3 =stats.spearmanr(psplow,logDlow)\n",
    "print 'Spearman rank correlation ', rho3\n",
    "print 'Spearman p-value', spvalue3"
   ]
  },
  {
   "cell_type": "code",
   "execution_count": 132,
   "metadata": {
    "collapsed": false
   },
   "outputs": [
    {
     "name": "stdout",
     "output_type": "stream",
     "text": [
      "Done!\n"
     ]
    }
   ],
   "source": [
    "ks1=np.zeros(num)-1\n",
    "pval=np.zeros(num)-1\n",
    "rho=np.zeros(num)-1\n",
    "sp_value=np.zeros(num)-1\n",
    "for i in range(num):\n",
    "    j=i*len(psplow)\n",
    "    psplowi=psplow_random[j:j+len(psplow)]\n",
    "    logDlow1=logDlow_random[j:j+len(psplow)]\n",
    "    medi=np.median(psplowi)\n",
    "    half1=logDlow1[np.where(psplowi < medi )]\n",
    "    half2=logDlow1[np.where(psplowi >= medi)]\n",
    "    res=stats.mstats.ks_twosamp(half1,half2)\n",
    "    ks1[i]=res[0]\n",
    "    pval[i]=res[1]\n",
    "    res2=stats.spearmanr(psplowi,logDlow1)\n",
    "    rho[i] =res2[0]\n",
    "    sp_value[i]=res2[1]\n",
    "\n",
    "print 'Done!'"
   ]
  },
  {
   "cell_type": "code",
   "execution_count": 134,
   "metadata": {
    "collapsed": false
   },
   "outputs": [
    {
     "name": "stdout",
     "output_type": "stream",
     "text": [
      "The simulated p-vale for the KS statistic in |logD| based on Pi_SP  8e-05\n",
      "8\n",
      "The simulated p-vale for the Spearman rho in |logD| for the simulation is 0.0\n",
      "0\n"
     ]
    }
   ],
   "source": [
    "howmany3=np.where(ks1 >=ks_main3[0])\n",
    "frac3=len(howmany3[0])/float(num)\n",
    "print 'The simulated p-vale for the KS statistic in |logD| based on Pi_SP ', frac3 \n",
    "print len(howmany3[0])\n",
    "\n",
    "howmany33=np.where(np.absolute(rho) >=np.absolute(rho3))\n",
    "frac33=len(howmany33[0])/float(num)\n",
    "print 'The simulated p-vale for the Spearman rho in |logD| for the simulation is', frac33 \n",
    "print len(howmany33[0])\n"
   ]
  },
  {
   "cell_type": "markdown",
   "metadata": {},
   "source": [
    "## $Pi_{SP}$ and $|log(D)|$ for only steep"
   ]
  },
  {
   "cell_type": "code",
   "execution_count": 135,
   "metadata": {
    "collapsed": false
   },
   "outputs": [
    {
     "name": "stdout",
     "output_type": "stream",
     "text": [
      "(25300000,)\n"
     ]
    },
    {
     "data": {
      "image/png": "[encoded data removed]",
      "text/plain": [
       "<matplotlib.figure.Figure at 0x11264b750>"
      ]
     },
     "metadata": {},
     "output_type": "display_data"
    }
   ],
   "source": [
    "lowcont=new[(new['Pi_SP_lim']==1) & (new['Pi_NV_lim']==1) & (new['P_NV_ct_frac'] <=0.05) & (new['I_NV']/new['I_NV_target'] <=1.05) & (new['Alpha']<-0.5)]\n",
    "num=100000\n",
    "D_lowcont=lowcont['Depol'].to_numpy()\n",
    "logDlow=np.absolute(np.log10(D_lowcont))\n",
    "psplow=lowcont['Pi_SP'].to_numpy()\n",
    "logDlow_random=randomize(logDlow,num)\n",
    "print np.shape(logDlow_random)\n",
    "psplow_random=randomize(psplow,num)\n",
    "fig5=plt.plot(psplow,logDlow,'.')"
   ]
  },
  {
   "cell_type": "code",
   "execution_count": 136,
   "metadata": {
    "collapsed": false
   },
   "outputs": [
    {
     "name": "stdout",
     "output_type": "stream",
     "text": [
      "(0.21016122984626912, 0.007491509142680609)\n",
      "Spearman rank correlation  -0.206631857221\n",
      "Spearman p-value 0.000945849030709\n"
     ]
    }
   ],
   "source": [
    "med=np.median(psplow)\n",
    "half1=logDlow[np.where(psplow< med)]\n",
    "half2=logDlow[np.where(psplow>= med)]\n",
    "ks_main3=stats.mstats.ks_twosamp(half1,half2)\n",
    "print ks_main3\n",
    "rho3, spvalue3 =stats.spearmanr(psplow,logDlow)\n",
    "print 'Spearman rank correlation ', rho3\n",
    "print 'Spearman p-value', spvalue3"
   ]
  },
  {
   "cell_type": "code",
   "execution_count": 137,
   "metadata": {
    "collapsed": false
   },
   "outputs": [
    {
     "name": "stdout",
     "output_type": "stream",
     "text": [
      "Done!\n",
      "The simulated p-vale for the KS statistic in |logD| based on Pi_SP  0.00509\n",
      "509\n",
      "The simulated p-vale for the Spearman rho in |logD| for the simulation is 0.00107\n",
      "107\n"
     ]
    }
   ],
   "source": [
    "ks1=np.zeros(num)-1\n",
    "pval=np.zeros(num)-1\n",
    "rho=np.zeros(num)-1\n",
    "sp_value=np.zeros(num)-1\n",
    "for i in range(num):\n",
    "    j=i*len(psplow)\n",
    "    psplowi=psplow_random[j:j+len(psplow)]\n",
    "    logDlow1=logDlow_random[j:j+len(psplow)]\n",
    "    medi=np.median(psplowi)\n",
    "    half1=logDlow1[np.where(psplowi < medi )]\n",
    "    half2=logDlow1[np.where(psplowi >= medi)]\n",
    "    res=stats.mstats.ks_twosamp(half1,half2)\n",
    "    ks1[i]=res[0]\n",
    "    pval[i]=res[1]\n",
    "    res2=stats.spearmanr(psplowi,logDlow1)\n",
    "    rho[i] =res2[0]\n",
    "    sp_value[i]=res2[1]\n",
    "\n",
    "print 'Done!'\n",
    "howmany3=np.where(ks1 >=ks_main3[0])\n",
    "frac3=len(howmany3[0])/float(num)\n",
    "print 'The simulated p-vale for the KS statistic in |logD| based on Pi_SP ', frac3 \n",
    "print len(howmany3[0])\n",
    "\n",
    "howmany33=np.where(np.absolute(rho) >=np.absolute(rho3))\n",
    "frac33=len(howmany33[0])/float(num)\n",
    "print 'The simulated p-vale for the Spearman rho in |logD| for the simulation is', frac33 \n",
    "print len(howmany33[0])"
   ]
  },
  {
   "cell_type": "markdown",
   "metadata": {},
   "source": [
    "## $I_{SP}$ vs $\\pi_{SP}$ for only steep"
   ]
  },
  {
   "cell_type": "code",
   "execution_count": 138,
   "metadata": {
    "collapsed": false
   },
   "outputs": [
    {
     "name": "stdout",
     "output_type": "stream",
     "text": [
      "(26400000,)\n"
     ]
    },
    {
     "data": {
      "image/png": "[encoded data removed]",
      "text/plain": [
       "<matplotlib.figure.Figure at 0x112bf55d0>"
      ]
     },
     "metadata": {},
     "output_type": "display_data"
    }
   ],
   "source": [
    "lowcont=new[(new['Pi_SP_lim']==1) & (new['P_NV_ct_frac'] <=0.05) & (new['I_NV']/new['I_NV_target'] <=1.05) & (new['Alpha']<-0.5)]\n",
    "original=new[(new['Pi_NV_lim']==1) & (new['RM_T']!=-1000) & (new['MedRM_T']!=-1000)]\n",
    "num=100000\n",
    "var1=lowcont['I_SP'].to_numpy()\n",
    "var2=lowcont['Pi_SP'].to_numpy()\n",
    "var1_random=randomize(var1,num)\n",
    "print np.shape(var1_random)\n",
    "var2_random=randomize(var2,num)\n",
    "fig5=plt.plot(var1,var2,'.')"
   ]
  },
  {
   "cell_type": "code",
   "execution_count": 139,
   "metadata": {
    "collapsed": false
   },
   "outputs": [
    {
     "name": "stdout",
     "output_type": "stream",
     "text": [
      "(0.2348484848484847, 0.0013779535019942204)\n",
      "Spearman rank correlation  -0.284035753674\n",
      "Spearman p-value 2.73086924849e-06\n"
     ]
    }
   ],
   "source": [
    "med=np.median(var1)\n",
    "half1=var2[np.where(var1< med)]\n",
    "half2=var2[np.where(var1>= med)]\n",
    "ks_main3=stats.mstats.ks_twosamp(half1,half2)\n",
    "print ks_main3\n",
    "rho3, spvalue3 =stats.spearmanr(var1,var2)\n",
    "print 'Spearman rank correlation ', rho3\n",
    "print 'Spearman p-value', spvalue3"
   ]
  },
  {
   "cell_type": "code",
   "execution_count": 140,
   "metadata": {
    "collapsed": false
   },
   "outputs": [
    {
     "name": "stdout",
     "output_type": "stream",
     "text": [
      "Done!\n",
      "The simulated p-vale for the KS statistic in I_SP based on Pi_SP  0.00097\n",
      "97\n",
      "The simulated p-vale for the Spearman rho in Pi_SP for the simulation is 0.0\n",
      "0\n"
     ]
    }
   ],
   "source": [
    "ks1=np.zeros(num)-1\n",
    "pval=np.zeros(num)-1\n",
    "rho=np.zeros(num)-1\n",
    "sp_value=np.zeros(num)-1\n",
    "for i in range(num):\n",
    "    j=i*len(var1)\n",
    "    var1i=var1_random[j:j+len(var1)]\n",
    "    var21=var2_random[j:j+len(var1)]\n",
    "    medi=np.median(var1i)\n",
    "    half1=var21[np.where(var1i < medi )]\n",
    "    half2=var21[np.where(var1i >= medi)]\n",
    "    res=stats.mstats.ks_twosamp(half1,half2)\n",
    "    ks1[i]=res[0]\n",
    "    pval[i]=res[1]\n",
    "    res2=stats.spearmanr(var1i,var21)\n",
    "    rho[i] =res2[0]\n",
    "    sp_value[i]=res2[1]\n",
    "\n",
    "print 'Done!'\n",
    "howmany3=np.where(ks1 >=ks_main3[0])\n",
    "frac3=len(howmany3[0])/float(num)\n",
    "print 'The simulated p-vale for the KS statistic in I_SP based on Pi_SP ', frac3 \n",
    "print len(howmany3[0])\n",
    "\n",
    "howmany33=np.where(np.absolute(rho) >=np.absolute(rho3))\n",
    "frac33=len(howmany33[0])/float(num)\n",
    "print 'The simulated p-vale for the Spearman rho in Pi_SP for the simulation is', frac33 \n",
    "print len(howmany33[0])"
   ]
  },
  {
   "cell_type": "markdown",
   "metadata": {},
   "source": [
    "## $|\\Delta RM|$ vs $|log(D)|$"
   ]
  },
  {
   "cell_type": "code",
   "execution_count": 141,
   "metadata": {
    "collapsed": false
   },
   "outputs": [
    {
     "name": "stdout",
     "output_type": "stream",
     "text": [
      "(28300000,)\n"
     ]
    },
    {
     "data": {
      "image/png": "[encoded data removed]",
      "text/plain": [
       "<matplotlib.figure.Figure at 0x112a4a9d0>"
      ]
     },
     "metadata": {},
     "output_type": "display_data"
    }
   ],
   "source": [
    "lowcont=new[(new['Pi_SP_lim']==1) & (new['Pi_NV_lim']==1) & (new['P_NV_ct_frac'] <=0.05) & (new['I_NV']/new['I_NV_target'] <=1.05) & (new['RM_T']!=-1000)]\n",
    "num=100000\n",
    "var2=lowcont['Depol'].to_numpy()\n",
    "var2=np.absolute(np.log10(var2))\n",
    "var1=np.absolute(lowcont['DeltaRM'].to_numpy())\n",
    "var2_random=randomize(var2,num)\n",
    "print np.shape(var2_random)\n",
    "var1_random=randomize(var1,num)\n",
    "fig5=plt.plot(var1,var2,'.')"
   ]
  },
  {
   "cell_type": "code",
   "execution_count": 142,
   "metadata": {
    "collapsed": false
   },
   "outputs": [
    {
     "name": "stdout",
     "output_type": "stream",
     "text": [
      "(0.22225551892917836, 0.001842717276121876)\n",
      "Spearman rank correlation  0.251708143421\n",
      "Spearman p-value 1.82876742843e-05\n"
     ]
    }
   ],
   "source": [
    "med=np.median(var1)\n",
    "half1=var2[np.where(var1< med)]\n",
    "half2=var2[np.where(var1>= med)]\n",
    "ks_main3=stats.mstats.ks_twosamp(half1,half2)\n",
    "print ks_main3\n",
    "rho3, spvalue3 =stats.spearmanr(var1,var2)\n",
    "print 'Spearman rank correlation ', rho3\n",
    "print 'Spearman p-value', spvalue3"
   ]
  },
  {
   "cell_type": "code",
   "execution_count": 143,
   "metadata": {
    "collapsed": false
   },
   "outputs": [
    {
     "name": "stdout",
     "output_type": "stream",
     "text": [
      "Done!\n",
      "The simulated p-vale for the KS statistic in |DeltaRM| based on |log(D)|  0.00103\n",
      "103\n",
      "The simulated p-vale for the Spearman rho in |log(D)| for the simulation is 3e-05\n",
      "3\n"
     ]
    }
   ],
   "source": [
    "ks1=np.zeros(num)-1\n",
    "pval=np.zeros(num)-1\n",
    "rho=np.zeros(num)-1\n",
    "sp_value=np.zeros(num)-1\n",
    "for i in range(num):\n",
    "    j=i*len(var1)\n",
    "    var1i=var1_random[j:j+len(var1)]\n",
    "    var21=var2_random[j:j+len(var1)]\n",
    "    medi=np.median(var1i)\n",
    "    half1=var21[np.where(var1i < medi )]\n",
    "    half2=var21[np.where(var1i >= medi)]\n",
    "    res=stats.mstats.ks_twosamp(half1,half2)\n",
    "    ks1[i]=res[0]\n",
    "    pval[i]=res[1]\n",
    "    res2=stats.spearmanr(var1i,var21)\n",
    "    rho[i] =res2[0]\n",
    "    sp_value[i]=res2[1]\n",
    "\n",
    "print 'Done!'\n",
    "howmany3=np.where(ks1 >=ks_main3[0])\n",
    "frac3=len(howmany3[0])/float(num)\n",
    "print 'The simulated p-vale for the KS statistic in |DeltaRM| based on |log(D)| ', frac3 \n",
    "print len(howmany3[0])\n",
    "\n",
    "howmany33=np.where(np.absolute(rho) >=np.absolute(rho3))\n",
    "frac33=len(howmany33[0])/float(num)\n",
    "print 'The simulated p-vale for the Spearman rho in |log(D)| for the simulation is', frac33 \n",
    "print len(howmany33[0])"
   ]
  },
  {
   "cell_type": "markdown",
   "metadata": {},
   "source": [
    "## $|RRM_T|$ vs $\\pi_{NV}$"
   ]
  },
  {
   "cell_type": "code",
   "execution_count": 202,
   "metadata": {
    "collapsed": false
   },
   "outputs": [
    {
     "name": "stdout",
     "output_type": "stream",
     "text": [
      "(33200000,)\n"
     ]
    }
   ],
   "source": [
    "lowcont=new[(new['Pi_NV_lim']==1) & (new['P_NV_ct_frac'] <=0.1) & (new['I_NV']/new['I_NV_target'] <=1.1) & (new['RM_T']!=-1000) & (new['MedRM_T']!=-1000)]\n",
    "original=new[(new['Pi_NV_lim']==1) & (new['RM_T']!=-1000) & (new['MedRM_T']!=-1000)]\n",
    "num=100000\n",
    "org2=original['Pi_NV'].to_numpy()\n",
    "org1=np.absolute((original['RM_T']-original['MedRM_T']).to_numpy())\n",
    "var2=lowcont['Pi_NV'].to_numpy()\n",
    "pval=lowcont['I_NV'].to_numpy()*var2\n",
    "var1=np.absolute((lowcont['RM_T']-lowcont['MedRM_T']).to_numpy())\n",
    "var2_random=randomize(var2,num)\n",
    "print np.shape(var2_random)\n",
    "var1_random=randomize(var1,num)"
   ]
  },
  {
   "cell_type": "code",
   "execution_count": 180,
   "metadata": {
    "collapsed": false
   },
   "outputs": [
    {
     "name": "stdout",
     "output_type": "stream",
     "text": [
      "4.0\n"
     ]
    }
   ],
   "source": [
    "print np.median(lowcont['n_ct'])\n",
    "#fig=plt.hist(new['P_NV_ct_frac'],bins=20)"
   ]
  },
  {
   "cell_type": "code",
   "execution_count": 203,
   "metadata": {
    "collapsed": false
   },
   "outputs": [
    {
     "data": {
      "image/png": "[encoded data removed]",
      "text/plain": [
       "<matplotlib.figure.Figure at 0x116645b90>"
      ]
     },
     "metadata": {},
     "output_type": "display_data"
    }
   ],
   "source": [
    "#fig5=plt.plot(org1,org2,'.r',label='Original sample')\n",
    "fig5=plt.plot(var1,pval,'.b',label='Only 1% contamination')\n",
    "plt.xlabel(r'$|RRM_T|$')\n",
    "plt.ylabel(r'$p_{NV}$')\n",
    "plt.legend(loc='upper right',bbox_to_anchor=[1,1],ncol=1,shadow=True,fancybox=True,numpoints=1)\n",
    "plt.savefig('RRMT_PiNV.png')"
   ]
  },
  {
   "cell_type": "code",
   "execution_count": 176,
   "metadata": {
    "collapsed": false
   },
   "outputs": [
    {
     "name": "stdout",
     "output_type": "stream",
     "text": [
      "(0.17815126050420169, 0.64428922268060507)\n",
      "Spearman rank correlation  -0.35191055202\n",
      "Spearman p-value 0.00302423184718\n"
     ]
    }
   ],
   "source": [
    "med=np.median(var1)\n",
    "half1=var2[np.where(var1< med)]\n",
    "half2=var2[np.where(var1>= med)]\n",
    "ks_main3=stats.mstats.ks_twosamp(half1,half2)\n",
    "print ks_main3\n",
    "rho3, spvalue3 =stats.spearmanr(var1,var2)\n",
    "print 'Spearman rank correlation ', rho3\n",
    "print 'Spearman p-value', spvalue3"
   ]
  },
  {
   "cell_type": "code",
   "execution_count": 146,
   "metadata": {
    "collapsed": false
   },
   "outputs": [
    {
     "name": "stdout",
     "output_type": "stream",
     "text": [
      "Done!\n",
      "The simulated p-vale for the KS statistic in Pi_NV based on |RRM_T|  0.4332\n",
      "43320\n",
      "The simulated p-vale for the Spearman rho in |RRM_T| for the simulation is 0.0489\n",
      "4890\n"
     ]
    }
   ],
   "source": [
    "ks1=np.zeros(num)-1\n",
    "pval=np.zeros(num)-1\n",
    "rho=np.zeros(num)-1\n",
    "sp_value=np.zeros(num)-1\n",
    "for i in range(num):\n",
    "    j=i*len(var1)\n",
    "    var1i=var1_random[j:j+len(var1)]\n",
    "    var21=var2_random[j:j+len(var1)]\n",
    "    medi=np.median(var1i)\n",
    "    half1=var21[np.where(var1i < medi )]\n",
    "    half2=var21[np.where(var1i >= medi)]\n",
    "    res=stats.mstats.ks_twosamp(half1,half2)\n",
    "    ks1[i]=res[0]\n",
    "    pval[i]=res[1]\n",
    "    res2=stats.spearmanr(var1i,var21)\n",
    "    rho[i] =res2[0]\n",
    "    sp_value[i]=res2[1]\n",
    "\n",
    "print 'Done!'\n",
    "howmany3=np.where(ks1 >=ks_main3[0])\n",
    "frac3=len(howmany3[0])/float(num)\n",
    "print 'The simulated p-vale for the KS statistic in Pi_NV based on |RRM_T| ', frac3 \n",
    "print len(howmany3[0])\n",
    "\n",
    "howmany33=np.where(np.absolute(rho) >=np.absolute(rho3))\n",
    "frac33=len(howmany33[0])/float(num)\n",
    "print 'The simulated p-vale for the Spearman rho in |RRM_T| for the simulation is', frac33 \n",
    "print len(howmany33[0])"
   ]
  },
  {
   "cell_type": "code",
   "execution_count": null,
   "metadata": {
    "collapsed": true
   },
   "outputs": [],
   "source": []
  },
  {
   "cell_type": "markdown",
   "metadata": {},
   "source": [
    "## $|\\Delta RM|$ vs $\\pi_{SP}$\n"
   ]
  },
  {
   "cell_type": "code",
   "execution_count": 154,
   "metadata": {
    "collapsed": false
   },
   "outputs": [
    {
     "name": "stdout",
     "output_type": "stream",
     "text": [
      "(28600000,)\n"
     ]
    },
    {
     "data": {
      "image/png": "[encoded data removed]",
      "text/plain": [
       "<matplotlib.figure.Figure at 0x1129683d0>"
      ]
     },
     "metadata": {},
     "output_type": "display_data"
    }
   ],
   "source": [
    "lowcont=new[(new['Pi_SP_lim']==1) & (new['P_NV_ct_frac'] <=0.05) & (new['I_NV']/new['I_NV_target'] <=1.05) & (new['DeltaRM']!=-1000)]\n",
    "num=100000\n",
    "var1=lowcont['Pi_SP'].to_numpy()\n",
    "var2=np.absolute(lowcont['DeltaRM'].to_numpy())\n",
    "var2_random=randomize(var2,num)\n",
    "print np.shape(var2_random)\n",
    "var1_random=randomize(var1,num)\n",
    "fig5=plt.plot(var1,var2,'.')"
   ]
  },
  {
   "cell_type": "code",
   "execution_count": 155,
   "metadata": {
    "collapsed": false
   },
   "outputs": [
    {
     "name": "stdout",
     "output_type": "stream",
     "text": [
      "(0.3146853146853148, 1.4159753369123343e-06)\n",
      "Spearman rank correlation  -0.394062523427\n",
      "Spearman p-value 4.61593983074e-12\n"
     ]
    }
   ],
   "source": [
    "med=np.median(var1)\n",
    "half1=var2[np.where(var1< med)]\n",
    "half2=var2[np.where(var1>= med)]\n",
    "ks_main3=stats.mstats.ks_twosamp(half1,half2)\n",
    "print ks_main3\n",
    "rho3, spvalue3 =stats.spearmanr(var1,var2)\n",
    "print 'Spearman rank correlation ', rho3\n",
    "print 'Spearman p-value', spvalue3"
   ]
  },
  {
   "cell_type": "code",
   "execution_count": 156,
   "metadata": {
    "collapsed": false
   },
   "outputs": [
    {
     "name": "stdout",
     "output_type": "stream",
     "text": [
      "Done!\n",
      "The simulated p-vale for the KS statistic in Pi_SP based on |DeltaRM|  0.0\n",
      "0\n",
      "The simulated p-vale for the Spearman rho in |DeltaRM| for the simulation is 0.0\n",
      "0\n"
     ]
    }
   ],
   "source": [
    "ks1=np.zeros(num)-1\n",
    "pval=np.zeros(num)-1\n",
    "rho=np.zeros(num)-1\n",
    "sp_value=np.zeros(num)-1\n",
    "for i in range(num):\n",
    "    j=i*len(var1)\n",
    "    var1i=var1_random[j:j+len(var1)]\n",
    "    var21=var2_random[j:j+len(var1)]\n",
    "    medi=np.median(var1i)\n",
    "    half1=var21[np.where(var1i < medi )]\n",
    "    half2=var21[np.where(var1i >= medi)]\n",
    "    res=stats.mstats.ks_twosamp(half1,half2)\n",
    "    ks1[i]=res[0]\n",
    "    pval[i]=res[1]\n",
    "    res2=stats.spearmanr(var1i,var21)\n",
    "    rho[i] =res2[0]\n",
    "    sp_value[i]=res2[1]\n",
    "\n",
    "print 'Done!'\n",
    "howmany3=np.where(ks1 >=ks_main3[0])\n",
    "frac3=len(howmany3[0])/float(num)\n",
    "print 'The simulated p-vale for the KS statistic in Pi_SP based on |DeltaRM| ', frac3 \n",
    "print len(howmany3[0])\n",
    "\n",
    "howmany33=np.where(np.absolute(rho) >=np.absolute(rho3))\n",
    "frac33=len(howmany33[0])/float(num)\n",
    "print 'The simulated p-vale for the Spearman rho in |DeltaRM| for the simulation is', frac33 \n",
    "print len(howmany33[0])"
   ]
  },
  {
   "cell_type": "markdown",
   "metadata": {},
   "source": [
    "# How did I choose 10% threshold for polarization contamination?\n"
   ]
  },
  {
   "cell_type": "code",
   "execution_count": 176,
   "metadata": {
    "collapsed": false
   },
   "outputs": [
    {
     "name": "stdout",
     "output_type": "stream",
     "text": [
      "PROGRESS: Finished parsing file /Users/Mehdi/Dropbox/SPASS/main/Larry_contamination.txt\n",
      "PROGRESS: Parsing completed. Parsed 100 lines in 0.008935 secs.\n",
      "------------------------------------------------------\n",
      "Inferred types from first line of file as \n",
      "column_type_hints=[float,float,float,float,float,float]\n",
      "If parsing fails due to incorrect types, you can correct\n",
      "the inferred type list above and pass it to read_csv in\n",
      "the column_type_hints argument\n",
      "------------------------------------------------------\n",
      "PROGRESS: Finished parsing file /Users/Mehdi/Dropbox/SPASS/main/Larry_contamination.txt\n",
      "PROGRESS: Parsing completed. Parsed 729 lines in 0.010177 secs.\n"
     ]
    }
   ],
   "source": [
    "#readcol,'Larry_contamination.txt',fz, ictz, pz, pctz, ispz, pspz\n",
    "pol=sf.SFrame.read_csv('/Users/Mehdi/Dropbox/SPASS/main/Larry_contamination.txt',skiprows=1,delimiter=' ',header=False)\n",
    "Inv=pol['X1'].to_numpy()\n",
    "Ict=pol['X2'].to_numpy()\n",
    "Pnv=pol['X3'].to_numpy()\n",
    "Pct=pol['X4'].to_numpy()\n",
    "Isp=pol['X5'].to_numpy()\n",
    "Psp=pol['X6'].to_numpy()"
   ]
  },
  {
   "cell_type": "code",
   "execution_count": 184,
   "metadata": {
    "collapsed": false
   },
   "outputs": [
    {
     "data": {
      "text/plain": [
       "540"
      ]
     },
     "execution_count": 184,
     "metadata": {},
     "output_type": "execute_result"
    }
   ],
   "source": [
    "id=np.where(np.absolute(Pct/Pnv) < 0.1)\n",
    "len(id[0])"
   ]
  },
  {
   "cell_type": "code",
   "execution_count": 185,
   "metadata": {
    "collapsed": false
   },
   "outputs": [
    {
     "name": "stdout",
     "output_type": "stream",
     "text": [
      "0.731138545953\n"
     ]
    }
   ],
   "source": [
    "print 533.0/729.0"
   ]
  },
  {
   "cell_type": "code",
   "execution_count": 192,
   "metadata": {
    "collapsed": false
   },
   "outputs": [
    {
     "name": "stdout",
     "output_type": "stream",
     "text": [
      "0.000435919790759\n",
      "0.160826049177\n"
     ]
    }
   ],
   "source": [
    "print np.median(Pct/Pnv)\n",
    "print np.percentile(Pct/Pnv,84)"
   ]
  },
  {
   "cell_type": "code",
   "execution_count": 198,
   "metadata": {
    "collapsed": false
   },
   "outputs": [
    {
     "name": "stdout",
     "output_type": "stream",
     "text": [
      "0.0257879840221\n"
     ]
    }
   ],
   "source": [
    "print np.percentile(Ict[id[0]]/Inv[id[0]],74)"
   ]
  },
  {
   "cell_type": "markdown",
   "metadata": {},
   "source": [
    "# New figures"
   ]
  },
  {
   "cell_type": "code",
   "execution_count": 200,
   "metadata": {
    "collapsed": false
   },
   "outputs": [
    {
     "data": {
      "text/plain": [
       "364"
      ]
     },
     "execution_count": 200,
     "metadata": {},
     "output_type": "execute_result"
    }
   ],
   "source": [
    "newrm=new[new['DeltaRM']!=-1000]\n",
    "len(newrm['RM_T'])"
   ]
  },
  {
   "cell_type": "code",
   "execution_count": 201,
   "metadata": {
    "collapsed": false
   },
   "outputs": [
    {
     "data": {
      "image/png": "[encoded data removed]",
      "text/plain": [
       "<matplotlib.figure.Figure at 0x112bdec50>"
      ]
     },
     "metadata": {},
     "output_type": "display_data"
    }
   ],
   "source": [
    "fig6=plt.plot(np.absolute(newrm['RM_T'].to_numpy()),np.absolute(newrm['DeltaRM'].to_numpy()),'.')"
   ]
  },
  {
   "cell_type": "markdown",
   "metadata": {},
   "source": [
    "## The uncertainty on the RM if we use the two S-PASS sub-bands"
   ]
  },
  {
   "cell_type": "code",
   "execution_count": 9,
   "metadata": {
    "collapsed": false
   },
   "outputs": [
    {
     "name": "stdout",
     "output_type": "stream",
     "text": [
      "Uncertainty on the RM in rad/m^2 based on DeltaX=5 degrees is  45.9891496438 rad m^-2\n"
     ]
    }
   ],
   "source": [
    "l1=0.12690355329949238\n",
    "l2= 0.13416815742397137\n",
    "sigRM=5.0*3.14/180.0/(l2**2-l1**2)\n",
    "print 'Uncertainty on the RM in rad/m^2 based on DeltaX=5 degrees is ', sigRM, 'rad m^-2'"
   ]
  },
  {
   "cell_type": "code",
   "execution_count": 26,
   "metadata": {
    "collapsed": false
   },
   "outputs": [
    {
     "name": "stdout",
     "output_type": "stream",
     "text": [
      "1.59\n"
     ]
    }
   ],
   "source": [
    "print np.median(All[All['RM_NS_err'] >=0 ]['RM_NS_err'].to_numpy())\n"
   ]
  },
  {
   "cell_type": "code",
   "execution_count": null,
   "metadata": {
    "collapsed": false
   },
   "outputs": [],
   "source": []
  },
  {
   "cell_type": "code",
   "execution_count": 36,
   "metadata": {
    "collapsed": false
   },
   "outputs": [
    {
     "name": "stdout",
     "output_type": "stream",
     "text": [
      "42.3743948555\n"
     ]
    }
   ],
   "source": [
    "delX=5.6*2.0*3.14/180.0\n",
    "nvl1=0.20904466587694237\n",
    "nvl2=0.2197963220748773\n",
    "delRM=delX/(nvl2**2-nvl1**2)\n",
    "print delRM"
   ]
  },
  {
   "cell_type": "code",
   "execution_count": 78,
   "metadata": {
    "collapsed": false
   },
   "outputs": [],
   "source": [
    "import math\n",
    "Q31=All[(All['RM_T']!= -1000) & (All['MedRM_T'] != -1000)] \n",
    "id=np.where((np.absolute(Q31['RM_T'].to_numpy()-Q31['MedRM_T'].to_numpy()) <= 20) & (np.absolute(np.log10(Q31['Depol'].to_numpy())) >=0.4))"
   ]
  },
  {
   "cell_type": "code",
   "execution_count": 82,
   "metadata": {
    "collapsed": false
   },
   "outputs": [
    {
     "name": "stdout",
     "output_type": "stream",
     "text": [
      "[  1.63000000e+00   3.00000000e-02   5.14000000e+00   3.89400000e+01\n",
      "   8.31000000e+00   3.00000000e-02   1.29200000e+01   9.27000000e+00\n",
      "   1.77000000e+01   2.50100000e+01   3.72000000e+00   4.22300000e+01\n",
      "   2.00000000e-01   1.43400000e+01   2.67800000e+01   1.81700000e+01\n",
      "   4.93000000e+00   1.44100000e+01   2.12400000e+01   9.50000000e+00\n",
      "   3.38000000e+00]\n"
     ]
    }
   ],
   "source": [
    "print np.absolute(Q31['DeltaRM'].to_numpy()[id[0]])"
   ]
  },
  {
   "cell_type": "code",
   "execution_count": 21,
   "metadata": {
    "collapsed": false
   },
   "outputs": [],
   "source": [
    "dep=All[(All['Pi_SP_lim']== 1) & (All['Pi_NV_lim']== 1) & (All['Depol']>= 1.7)]\n",
    "rep=All[(All['Pi_SP_lim']== 1) & (All['Pi_NV_lim']== 1) & (All['Depol']<= 0.6)]\n",
    "nodep=All[(All['Pi_SP_lim']== 1) & (All['Pi_NV_lim']== 1) & (All['Depol']< 1.7) & (All['Depol']> 0.6)]"
   ]
  },
  {
   "cell_type": "code",
   "execution_count": 40,
   "metadata": {
    "collapsed": false
   },
   "outputs": [
    {
     "name": "stdout",
     "output_type": "stream",
     "text": [
      "-0.925  +-  [-0.02443484  0.03320542]\n",
      "-0.82  +-  [-0.02245251  0.03482064]\n",
      "-0.11  +-  [-0.14005469  0.13157577]\n"
     ]
    }
   ],
   "source": [
    "print np.median(dep['Alpha']), ' +- ', (np.percentile(dep['Alpha'],[16,84])-np.median(dep['Alpha']))/np.sqrt(len(dep['Alpha']))\n",
    "print np.median(nodep['Alpha']), ' +- ', (np.percentile(nodep['Alpha'],[16,84])-np.median(nodep['Alpha']))/np.sqrt(len(nodep['Alpha']))\n",
    "print np.median(rep['Alpha']), ' +- ', (np.percentile(rep['Alpha'],[16,84])-np.median(rep['Alpha']))/np.sqrt(len(rep['Alpha']))"
   ]
  },
  {
   "cell_type": "markdown",
   "metadata": {
    "collapsed": true
   },
   "source": [
    "## Simulation to understand the effect of contamination\n",
    "##### As we showed repeating some of the statistical tests for a sample with contamination both in I and P less than 5% resulted in larger p-values. These results are either due to the lower statistics or due to bias because of contamination. To resolve this issue we have designed a test.\n",
    "Assuming there are N objects for a correlation test. Reducing the contamination threshold to the 5% resulted in only M sources. I randomly will draw M sources from the original sample of N objects without replacement. Then I perform the KS and Spearman test on the resulting sample. I repeat these steps 10000 times and draw a distribution of the p-values.\n",
    "If reducing the number of sources results in lower statistics and therefore weaker correlations then I expect the p-value distribution to be off from the original sample P-value. However, if there are biasing effects due to contamination I expect the p-value distribution to be centered around the original p-value."
   ]
  },
  {
   "cell_type": "markdown",
   "metadata": {},
   "source": [
    "## $|RRM_T|$ vs $\\pi_{NV}$"
   ]
  },
  {
   "cell_type": "code",
   "execution_count": 104,
   "metadata": {
    "collapsed": false
   },
   "outputs": [
    {
     "name": "stdout",
     "output_type": "stream",
     "text": [
      "0\n",
      "(0.20032963739886098, 0.0068366679549080227)\n",
      "Spearman rank correlation  -0.229852349747\n",
      "Spearman p-value 9.54124471091e-05\n",
      "The simulated p-vale for the KS statistic in Pi_NV based on |RRM_T|  0.00511\n",
      "511\n",
      "The simulated p-vale for the Spearman rho in |RRM_T| for the simulation is 4e-05\n",
      "4\n",
      "1\n",
      "(0.19010494752623691, 0.012064127400321376)\n",
      "Spearman rank correlation  -0.192773331504\n",
      "Spearman p-value 0.00111719161517\n",
      "The simulated p-vale for the KS statistic in Pi_NV based on |RRM_T|  0.00832\n",
      "832\n",
      "The simulated p-vale for the Spearman rho in |RRM_T| for the simulation is 0.00123\n",
      "123\n",
      "2\n",
      "(0.25791629207871325, 0.00016338022043594738)\n",
      "Spearman rank correlation  -0.246355269724\n",
      "Spearman p-value 2.78018471399e-05\n",
      "The simulated p-vale for the KS statistic in Pi_NV based on |RRM_T|  2e-05\n",
      "2\n",
      "The simulated p-vale for the Spearman rho in |RRM_T| for the simulation is 2e-05\n",
      "2\n",
      "3\n",
      "(0.17825392068724355, 0.022306343207067609)\n",
      "Spearman rank correlation  -0.22902512497\n",
      "Spearman p-value 0.00010126432122\n",
      "The simulated p-vale for the KS statistic in Pi_NV based on |RRM_T|  0.01688\n",
      "1688\n",
      "The simulated p-vale for the Spearman rho in |RRM_T| for the simulation is 9e-05\n",
      "9\n",
      "4\n",
      "(0.20832084706822446, 0.0043069164855345007)\n",
      "Spearman rank correlation  -0.221439230175\n",
      "Spearman p-value 0.000173048159888\n",
      "The simulated p-vale for the KS statistic in Pi_NV based on |RRM_T|  0.00276\n",
      "276\n",
      "The simulated p-vale for the Spearman rho in |RRM_T| for the simulation is 0.00015\n",
      "15\n",
      "5\n",
      "(0.12321446408950169, 0.2330175276892979)\n",
      "Spearman rank correlation  -0.157045453085\n",
      "Spearman p-value 0.00812902928123\n",
      "The simulated p-vale for the KS statistic in Pi_NV based on |RRM_T|  0.1859\n",
      "18590\n",
      "The simulated p-vale for the Spearman rho in |RRM_T| for the simulation is 0.0085\n",
      "850\n",
      "6\n",
      "(0.24313255419039043, 0.00046601162205908275)\n",
      "Spearman rank correlation  -0.318930152075\n",
      "Spearman p-value 4.12533346952e-08\n",
      "The simulated p-vale for the KS statistic in Pi_NV based on |RRM_T|  0.00028\n",
      "28\n",
      "The simulated p-vale for the Spearman rho in |RRM_T| for the simulation is 0.0\n",
      "0\n",
      "7\n",
      "(0.20297672560183799, 0.0058781303233679414)\n",
      "Spearman rank correlation  -0.249940135379\n",
      "Spearman p-value 2.10229522657e-05\n",
      "The simulated p-vale for the KS statistic in Pi_NV based on |RRM_T|  0.00385\n",
      "385\n",
      "The simulated p-vale for the Spearman rho in |RRM_T| for the simulation is 6e-05\n",
      "6\n",
      "8\n",
      "(0.16566776545799605, 0.041155613447039996)\n",
      "Spearman rank correlation  -0.233887487471\n",
      "Spearman p-value 7.11467937691e-05\n",
      "The simulated p-vale for the KS statistic in Pi_NV based on |RRM_T|  0.0307\n",
      "3070\n",
      "The simulated p-vale for the Spearman rho in |RRM_T| for the simulation is 4e-05\n",
      "4\n",
      "9\n",
      "(0.15927479772250544, 0.055217999339595231)\n",
      "Spearman rank correlation  -0.164762570911\n",
      "Spearman p-value 0.00546135971395\n",
      "The simulated p-vale for the KS statistic in Pi_NV based on |RRM_T|  0.04218\n",
      "4218\n",
      "The simulated p-vale for the Spearman rho in |RRM_T| for the simulation is 0.00551\n",
      "551\n",
      "10\n",
      "(0.16416941364499071, 0.04413655903447955)\n",
      "Spearman rank correlation  -0.16723571719\n",
      "Spearman p-value 0.00479069779084\n",
      "The simulated p-vale for the KS statistic in Pi_NV based on |RRM_T|  0.03297\n",
      "3297\n",
      "The simulated p-vale for the Spearman rho in |RRM_T| for the simulation is 0.00467\n",
      "467\n",
      "11\n",
      "(0.27045250224752632, 6.3996749893606265e-05)\n",
      "Spearman rank correlation  -0.294215765464\n",
      "Spearman p-value 4.66626160591e-07\n",
      "The simulated p-vale for the KS statistic in Pi_NV based on |RRM_T|  4e-05\n",
      "4\n",
      "The simulated p-vale for the Spearman rho in |RRM_T| for the simulation is 0.0\n",
      "0\n",
      "12\n",
      "(0.19948057137149103, 0.0071730733359873121)\n",
      "Spearman rank correlation  -0.249837083925\n",
      "Spearman p-value 2.11937780023e-05\n",
      "The simulated p-vale for the KS statistic in Pi_NV based on |RRM_T|  0.00528\n",
      "528\n",
      "The simulated p-vale for the Spearman rho in |RRM_T| for the simulation is 3e-05\n",
      "3\n",
      "13\n",
      "(0.20052941764059495, 0.0067596341478266091)\n",
      "Spearman rank correlation  -0.251382330402\n",
      "Spearman p-value 1.87649556848e-05\n",
      "The simulated p-vale for the KS statistic in Pi_NV based on |RRM_T|  0.00452\n",
      "452\n",
      "The simulated p-vale for the Spearman rho in |RRM_T| for the simulation is 2e-05\n",
      "2\n",
      "14\n",
      "(0.23591408591408652, 0.00076074308935257886)\n",
      "Spearman rank correlation  -0.281043687321\n",
      "Spearman p-value 1.55420194262e-06\n",
      "The simulated p-vale for the KS statistic in Pi_NV based on |RRM_T|  0.00056\n",
      "56\n",
      "The simulated p-vale for the Spearman rho in |RRM_T| for the simulation is 0.0\n",
      "0\n",
      "15\n",
      "(0.18246753246753275, 0.017998231260062669)\n",
      "Spearman rank correlation  -0.233943010476\n",
      "Spearman p-value 7.08575261336e-05\n",
      "The simulated p-vale for the KS statistic in Pi_NV based on |RRM_T|  0.01251\n",
      "1251\n",
      "The simulated p-vale for the Spearman rho in |RRM_T| for the simulation is 9e-05\n",
      "9\n",
      "16\n",
      "(0.18694436120267693, 0.014236290416119374)\n",
      "Spearman rank correlation  -0.180541365976\n",
      "Spearman p-value 0.00229737853696\n",
      "The simulated p-vale for the KS statistic in Pi_NV based on |RRM_T|  0.01037\n",
      "1037\n",
      "The simulated p-vale for the Spearman rho in |RRM_T| for the simulation is 0.00226\n",
      "226\n",
      "17\n",
      "(0.22225551892917811, 0.0018427172761219038)\n",
      "Spearman rank correlation  -0.209532655764\n",
      "Spearman p-value 0.00038705335675\n",
      "The simulated p-vale for the KS statistic in Pi_NV based on |RRM_T|  0.00122\n",
      "122\n",
      "The simulated p-vale for the Spearman rho in |RRM_T| for the simulation is 0.00037\n",
      "37\n",
      "18\n",
      "(0.27185096393966585, 5.7484846038909876e-05)\n",
      "Spearman rank correlation  -0.298133497845\n",
      "Spearman p-value 3.22403752438e-07\n",
      "The simulated p-vale for the KS statistic in Pi_NV based on |RRM_T|  2e-05\n",
      "2\n",
      "The simulated p-vale for the Spearman rho in |RRM_T| for the simulation is 0.0\n",
      "0\n",
      "19\n",
      "(0.21551293577065164, 0.002797986945313483)\n",
      "Spearman rank correlation  -0.228595554048\n",
      "Spearman p-value 0.000104434476089\n",
      "The simulated p-vale for the KS statistic in Pi_NV based on |RRM_T|  0.00196\n",
      "196\n",
      "The simulated p-vale for the Spearman rho in |RRM_T| for the simulation is 7e-05\n",
      "7\n",
      "DONE\n"
     ]
    }
   ],
   "source": [
    "# I have draw 283 sources\n",
    "test=new[(new['Pi_NV_lim']==1) & (new['RM_T']!=-1000) & (new['MedRM_T']!=-1000)]\n",
    "Pinv=test['Pi_NV'].to_numpy()\n",
    "RRMT=np.absolute((test['RM_T']-test['MedRM_T']).to_numpy())\n",
    "num2=20\n",
    "pks=np.zeros(num2)-100\n",
    "psp=np.zeros(num2)-100\n",
    "for l in range(num2):\n",
    "    print l\n",
    "    idrandom=np.int_(np.random.rand(283)*355)\n",
    "    num=100000\n",
    "    var2=Pinv[idrandom]\n",
    "    var1=RRMT[idrandom]\n",
    "    var2_random=randomize(var2,num)\n",
    "    #print np.shape(var2_random)\n",
    "    var1_random=randomize(var1,num)\n",
    "    #fig5=plt.plot(var1,var2,'.')\n",
    "\n",
    "    med=np.median(var1)\n",
    "    half1=var2[np.where(var1< med)]\n",
    "    half2=var2[np.where(var1>= med)]\n",
    "    ks_main3=stats.mstats.ks_twosamp(half1,half2)\n",
    "    print ks_main3\n",
    "    rho3, spvalue3 =stats.spearmanr(var1,var2)\n",
    "    print 'Spearman rank correlation ', rho3\n",
    "    print 'Spearman p-value', spvalue3\n",
    "\n",
    "    ks1=np.zeros(num)-1\n",
    "    pval=np.zeros(num)-1\n",
    "    rho=np.zeros(num)-1\n",
    "    sp_value=np.zeros(num)-1\n",
    "    for i in range(num):\n",
    "        j=i*len(var1)\n",
    "        var1i=var1_random[j:j+len(var1)]\n",
    "        var21=var2_random[j:j+len(var1)]\n",
    "        medi=np.median(var1i)\n",
    "        half1=var21[np.where(var1i < medi )]\n",
    "        half2=var21[np.where(var1i >= medi)]\n",
    "        res=stats.mstats.ks_twosamp(half1,half2)\n",
    "        ks1[i]=res[0]\n",
    "        pval[i]=res[1]\n",
    "        res2=stats.spearmanr(var1i,var21)\n",
    "        rho[i] =res2[0]\n",
    "        sp_value[i]=res2[1]\n",
    "\n",
    "        #print 'Done!'\n",
    "    howmany3=np.where(ks1 >=ks_main3[0])\n",
    "    frac3=len(howmany3[0])/float(num)\n",
    "    pks[l]=frac3\n",
    "    print 'The simulated p-vale for the KS statistic in Pi_NV based on |RRM_T| ', frac3 \n",
    "    print len(howmany3[0])\n",
    "\n",
    "    howmany33=np.where(np.absolute(rho) >=np.absolute(rho3))\n",
    "    frac33=len(howmany33[0])/float(num)\n",
    "    psp[l]=frac33\n",
    "    print 'The simulated p-vale for the Spearman rho in |RRM_T| for the simulation is', frac33 \n",
    "    print len(howmany33[0])\n",
    "print 'DONE'"
   ]
  },
  {
   "cell_type": "code",
   "execution_count": 105,
   "metadata": {
    "collapsed": true
   },
   "outputs": [],
   "source": [
    "#pks1=pks\n",
    "#psp1=psp"
   ]
  },
  {
   "cell_type": "code",
   "execution_count": 106,
   "metadata": {
    "collapsed": false
   },
   "outputs": [
    {
     "name": "stdout",
     "output_type": "stream",
     "text": [
      "[  5.11000000e-03   8.32000000e-03   2.00000000e-05   1.68800000e-02\n",
      "   2.76000000e-03   1.85900000e-01   2.80000000e-04   3.85000000e-03\n",
      "   3.07000000e-02   4.21800000e-02   3.29700000e-02   4.00000000e-05\n",
      "   5.28000000e-03   4.52000000e-03   5.60000000e-04   1.25100000e-02\n",
      "   1.03700000e-02   1.22000000e-03   2.00000000e-05   1.96000000e-03]\n"
     ]
    }
   ],
   "source": [
    "print pks"
   ]
  },
  {
   "cell_type": "code",
   "execution_count": 107,
   "metadata": {
    "collapsed": false
   },
   "outputs": [
    {
     "name": "stdout",
     "output_type": "stream",
     "text": [
      "[  4.00000000e-05   1.23000000e-03   2.00000000e-05   9.00000000e-05\n",
      "   1.50000000e-04   8.50000000e-03   0.00000000e+00   6.00000000e-05\n",
      "   4.00000000e-05   5.51000000e-03   4.67000000e-03   0.00000000e+00\n",
      "   3.00000000e-05   2.00000000e-05   0.00000000e+00   9.00000000e-05\n",
      "   2.26000000e-03   3.70000000e-04   0.00000000e+00   7.00000000e-05]\n"
     ]
    }
   ],
   "source": [
    "print psp"
   ]
  },
  {
   "cell_type": "code",
   "execution_count": 120,
   "metadata": {
    "collapsed": false
   },
   "outputs": [
    {
     "data": {
      "image/png": "[encoded data removed]",
      "text/plain": [
       "<matplotlib.figure.Figure at 0x1131a0790>"
      ]
     },
     "metadata": {},
     "output_type": "display_data"
    }
   ],
   "source": [
    "bin=(np.max(pks)-np.min(pks))/10.0\n",
    "fig6=plt.hist(pks,bins=30,label='KS-p-value')\n",
    "#plt.axis([0,8e-2,0,10])"
   ]
  },
  {
   "cell_type": "code",
   "execution_count": 122,
   "metadata": {
    "collapsed": false
   },
   "outputs": [
    {
     "data": {
      "image/png": "[encoded data removed]",
      "text/plain": [
       "<matplotlib.figure.Figure at 0x11a70e150>"
      ]
     },
     "metadata": {},
     "output_type": "display_data"
    }
   ],
   "source": [
    "bin=(np.max(psp)-np.min(psp))/10.0\n",
    "fig7=plt.hist(psp,bins=30,label='Spearman p-value')\n",
    "#plt.axis([0,2e-4,0,100])"
   ]
  },
  {
   "cell_type": "code",
   "execution_count": 125,
   "metadata": {
    "collapsed": false
   },
   "outputs": [
    {
     "name": "stdout",
     "output_type": "stream",
     "text": [
      "0.004815\n",
      "6.5e-05\n"
     ]
    }
   ],
   "source": [
    "print np.median(pks)\n",
    "print np.median(psp)\n"
   ]
  },
  {
   "cell_type": "code",
   "execution_count": 93,
   "metadata": {
    "collapsed": false
   },
   "outputs": [],
   "source": [
    "test=new[(new['Pi_NV_lim']==1) & (new['RM_T']!=-1000) & (new['MedRM_T']!=-1000)]\n",
    "Pinv=test['Pi_NV'].to_numpy()\n",
    "RRMT=np.absolute((test['RM_T']-test['MedRM_T']).to_numpy())"
   ]
  },
  {
   "cell_type": "code",
   "execution_count": 95,
   "metadata": {
    "collapsed": false
   },
   "outputs": [
    {
     "data": {
      "text/plain": [
       "array([  22.6 ,    2.4 ,   20.5 ,    7.8 ,    9.4 ,    1.8 ,    5.7 ,\n",
       "         19.9 ,   11.  ,   57.3 ,    2.55,    6.8 ,    8.2 ,    4.  ,\n",
       "          5.5 ,    7.  ,    1.5 ,   15.85,   31.2 ,    1.2 ,   41.75,\n",
       "          9.75,   12.75,   15.6 ,   13.4 ,   38.1 ,    6.5 ,    5.7 ,\n",
       "         17.1 ,    5.5 ,  106.5 ,   33.9 ,   14.5 ,    2.75,    4.3 ,\n",
       "          1.35,   20.65,   21.3 ,    1.3 ,    2.8 ,   12.8 ,   16.9 ,\n",
       "         27.  ,   11.35,   14.5 ,    0.6 ,   30.4 ,   23.5 ,   34.4 ,\n",
       "         23.4 ,   19.15,   29.4 ,    4.6 ,   45.1 ,   44.35,   10.6 ,\n",
       "         12.8 ,    5.75,    0.8 ,   23.8 ,   14.85,    1.1 ,   39.4 ,\n",
       "          6.2 ,   20.4 ,    3.8 ,   50.65,   59.25,   14.6 ,   15.1 ,\n",
       "          9.3 ,   42.2 ,    5.85,    9.45,    0.15,   17.2 ,   76.8 ,\n",
       "         27.25,    5.9 ,   36.3 ,    8.6 ,   29.4 ,    2.45,   11.8 ,\n",
       "         30.85,    1.7 ,   19.6 ,   12.8 ,    1.05,    8.6 ,    4.1 ,\n",
       "          9.3 ,    9.5 ,    0.25,    3.45,    8.3 ,   19.5 ,   18.4 ,\n",
       "         13.3 ,    4.95,   12.15,   26.7 ,    0.7 ,   27.5 ,   32.15,\n",
       "          0.7 ,    4.3 ,   12.6 ,   12.2 ,   45.3 ,    2.95,    3.65,\n",
       "          5.45,   16.9 ,   35.2 ,    8.3 ,   11.5 ,   34.15,    1.1 ,\n",
       "         11.55,   50.8 ,   11.4 ,    6.95,   18.8 ,    9.4 ,   23.8 ,\n",
       "         18.05,    0.5 ,   11.55,   19.3 ,    2.1 ,    9.8 ,    7.4 ,\n",
       "         55.9 ,   14.2 ,   16.9 ,    3.5 ,   11.2 ,   12.25,   32.7 ,\n",
       "         24.7 ,   26.45,   20.15,   20.  ,    3.6 ,   37.1 ,   36.95,\n",
       "         20.55,   22.2 ,   24.2 ,    0.  ,   13.5 ,    0.65,    0.35,\n",
       "         26.8 ,    6.75,   18.5 ,   26.05,   12.4 ,   12.  ,   16.8 ,\n",
       "          1.  ,   11.5 ,    0.3 ,   14.4 ,   14.8 ,    1.55,    3.  ,\n",
       "          1.25,    6.5 ,   11.05,    8.35,   45.5 ,   16.  ,   96.4 ,\n",
       "          6.15,   18.8 ,    8.6 ,   43.2 ,   32.1 ,    6.8 ,   20.4 ,\n",
       "         42.75,    2.3 ,   11.25,   10.1 ,    7.9 ,   22.  ,   40.15,\n",
       "          4.  ,   14.1 ,    5.6 ,    6.95,   14.8 ,    7.7 ,   20.75,\n",
       "          2.8 ,   35.6 ,   35.3 ,    0.3 ,    3.8 ,   39.6 ,    4.5 ,\n",
       "         18.3 ,    4.2 ,    7.35,   21.4 ,   10.3 ,   20.5 ,   28.25,\n",
       "         13.9 ,   33.3 ,   30.5 ,   37.4 ,    6.5 ,   33.8 ,    3.4 ,\n",
       "         19.9 ,   23.75,    1.55,   12.9 ,   12.5 ,   11.  ,    5.2 ,\n",
       "          6.6 ,    5.6 ,   23.2 ,    3.9 ,   18.5 ,   19.8 ,   30.7 ,\n",
       "          3.3 ,    9.2 ,   21.1 ,    2.2 ,    0.55,    9.4 ,   82.8 ,\n",
       "          9.2 ,   49.1 ,   20.7 ,   10.5 ,    2.2 ,   59.4 ,    7.9 ,\n",
       "          2.1 ,    9.2 ,   21.95,   12.6 ,    2.55,   82.4 ,   41.3 ,\n",
       "          1.35,   28.2 ,   10.5 ,   50.15,    3.4 ,   11.7 ,   58.5 ,\n",
       "         27.75,    6.1 ,   15.1 ,   34.3 ,    6.55,    2.9 ,   20.95,\n",
       "         77.6 ,   15.85,    3.5 ,   19.7 ,   28.6 ,   11.4 ,   10.9 ,\n",
       "         30.8 ,   34.55,    0.4 ,    5.2 ,    0.6 ,    0.2 ,    4.15,\n",
       "         25.35,   40.2 ,    1.2 ,   21.1 ,   29.5 ,    8.7 ,   17.2 ,\n",
       "          9.85,   21.75,   13.8 ,    0.8 ,   11.9 ,    5.4 ,    9.4 ,\n",
       "          1.1 ,   40.8 ,   16.1 ,   18.55,   18.85,   13.7 ,   35.3 ,\n",
       "          5.9 ,   64.85,   18.5 ,   48.05,   20.2 ,    6.05,   10.7 ,\n",
       "         15.6 ,   16.9 ,    2.85,    8.85,   12.  ,   12.3 ,    1.4 ,\n",
       "          8.85,   16.  ,   16.5 ,   22.4 ,   65.3 ,   15.45,   49.6 ,\n",
       "          6.7 ,   57.25,    7.3 ,   21.  ,   38.65,   25.35,   30.2 ,\n",
       "         11.75,    8.35,   13.85,   22.7 ,   67.  ,   26.2 ,   58.  ,\n",
       "         12.7 ,    9.7 ,   15.7 ,   11.3 ,    5.55,    3.1 ,    7.6 ,\n",
       "         17.85,    5.6 ,    6.3 ,   21.3 ,  111.5 ,    6.2 ,   26.5 ,\n",
       "          1.5 ,    3.55,   24.2 ,    6.3 ,   18.45])"
      ]
     },
     "execution_count": 95,
     "metadata": {},
     "output_type": "execute_result"
    }
   ],
   "source": [
    "RRMT"
   ]
  },
  {
   "cell_type": "code",
   "execution_count": 182,
   "metadata": {
    "collapsed": false
   },
   "outputs": [
    {
     "name": "stdout",
     "output_type": "stream",
     "text": [
      "0\n",
      "(0.13690070438536747, 0.09513345197090238)\n",
      "Spearman rank correlation  -0.246596076396\n",
      "Spearman p-value 6.85637231889e-06\n",
      "The simulated p-vale for the KS statistic in Pi_NV based on |RRM_T|  0.07487\n",
      "7487\n",
      "The simulated p-vale for the Spearman rho in |RRM_T| for the simulation is 0.0\n",
      "0\n",
      "1\n",
      "(0.33994849265262833, 1.3995058160118715e-08)\n",
      "Spearman rank correlation  -0.350082857945\n",
      "Spearman p-value 8.38519187246e-11\n",
      "The simulated p-vale for the KS statistic in Pi_NV based on |RRM_T|  0.0\n",
      "0\n",
      "The simulated p-vale for the Spearman rho in |RRM_T| for the simulation is 0.0\n",
      "0\n",
      "2\n",
      "(0.18075437400590788, 0.0098920286755274176)\n",
      "Spearman rank correlation  -0.198651977772\n",
      "Spearman p-value 0.000314047180661\n",
      "The simulated p-vale for the KS statistic in Pi_NV based on |RRM_T|  0.00761\n",
      "761\n",
      "The simulated p-vale for the Spearman rho in |RRM_T| for the simulation is 0.00032\n",
      "32\n",
      "3\n",
      "(0.27489964402029837, 9.287590728442341e-06)\n",
      "Spearman rank correlation  -0.332117090427\n",
      "Spearman p-value 8.28378876461e-10\n",
      "The simulated p-vale for the KS statistic in Pi_NV based on |RRM_T|  0.0\n",
      "0\n",
      "The simulated p-vale for the Spearman rho in |RRM_T| for the simulation is 0.0\n",
      "0\n",
      "4\n",
      "(0.23608270847534629, 0.00023317718916482391)\n",
      "Spearman rank correlation  -0.248171335039\n",
      "Spearman p-value 5.9611372428e-06\n",
      "The simulated p-vale for the KS statistic in Pi_NV based on |RRM_T|  5e-05\n",
      "5\n",
      "The simulated p-vale for the Spearman rho in |RRM_T| for the simulation is 0.0\n",
      "0\n",
      "5\n",
      "(0.16462167689161564, 0.02446256869190613)\n",
      "Spearman rank correlation  -0.257146862603\n",
      "Spearman p-value 2.63827160638e-06\n",
      "The simulated p-vale for the KS statistic in Pi_NV based on |RRM_T|  0.01653\n",
      "1653\n",
      "The simulated p-vale for the Spearman rho in |RRM_T| for the simulation is 1e-05\n",
      "1\n",
      "6\n",
      "(0.26592441111868487, 2.043911081868314e-05)\n",
      "Spearman rank correlation  -0.25994370363\n",
      "Spearman p-value 2.0336695878e-06\n",
      "The simulated p-vale for the KS statistic in Pi_NV based on |RRM_T|  1e-05\n",
      "1\n",
      "The simulated p-vale for the Spearman rho in |RRM_T| for the simulation is 1e-05\n",
      "1\n",
      "7\n",
      "(0.18302658486707571, 0.0086487099004868215)\n",
      "Spearman rank correlation  -0.199985421897\n",
      "Spearman p-value 0.00028549791855\n",
      "The simulated p-vale for the KS statistic in Pi_NV based on |RRM_T|  0.00589\n",
      "589\n",
      "The simulated p-vale for the Spearman rho in |RRM_T| for the simulation is 0.0003\n",
      "30\n",
      "8\n",
      "(0.27240021207301357, 1.1599559467187915e-05)\n",
      "Spearman rank correlation  -0.285405330929\n",
      "Spearman p-value 1.65279938133e-07\n",
      "The simulated p-vale for the KS statistic in Pi_NV based on |RRM_T|  1e-05\n",
      "1\n",
      "The simulated p-vale for the Spearman rho in |RRM_T| for the simulation is 0.0\n",
      "0\n",
      "9\n",
      "(0.25490418844202034, 5.1942331469145295e-05)\n",
      "Spearman rank correlation  -0.265928878936\n",
      "Spearman p-value 1.153395746e-06\n",
      "The simulated p-vale for the KS statistic in Pi_NV based on |RRM_T|  5e-05\n",
      "5\n",
      "The simulated p-vale for the Spearman rho in |RRM_T| for the simulation is 0.0\n",
      "0\n",
      "10\n",
      "(0.2408347220118166, 0.00016145707110971498)\n",
      "Spearman rank correlation  -0.275495867199\n",
      "Spearman p-value 4.52560596415e-07\n",
      "The simulated p-vale for the KS statistic in Pi_NV based on |RRM_T|  0.00013\n",
      "13\n",
      "The simulated p-vale for the Spearman rho in |RRM_T| for the simulation is 0.0\n",
      "0\n",
      "11\n",
      "(0.19525865333636308, 0.0040775469900168069)\n",
      "Spearman rank correlation  -0.22832688665\n",
      "Spearman p-value 3.24745123882e-05\n",
      "The simulated p-vale for the KS statistic in Pi_NV based on |RRM_T|  0.00255\n",
      "255\n",
      "The simulated p-vale for the Spearman rho in |RRM_T| for the simulation is 5e-05\n",
      "5\n",
      "12\n",
      "(0.15982426905014432, 0.031512529301576261)\n",
      "Spearman rank correlation  -0.2221046432\n",
      "Spearman p-value 5.36374942214e-05\n",
      "The simulated p-vale for the KS statistic in Pi_NV based on |RRM_T|  0.02339\n",
      "2339\n",
      "The simulated p-vale for the Spearman rho in |RRM_T| for the simulation is 5e-05\n",
      "5\n",
      "13\n",
      "(0.21701257385244685, 0.00094999860757361519)\n",
      "Spearman rank correlation  -0.293247831298\n",
      "Spearman p-value 7.24128546193e-08\n",
      "The simulated p-vale for the KS statistic in Pi_NV based on |RRM_T|  0.00055\n",
      "55\n",
      "The simulated p-vale for the Spearman rho in |RRM_T| for the simulation is 0.0\n",
      "0\n",
      "14\n",
      "(0.21833813058627494, 0.00086496814085740194)\n",
      "Spearman rank correlation  -0.271841171931\n",
      "Spearman p-value 6.49728698296e-07\n",
      "The simulated p-vale for the KS statistic in Pi_NV based on |RRM_T|  0.00062\n",
      "62\n",
      "The simulated p-vale for the Spearman rho in |RRM_T| for the simulation is 0.0\n",
      "0\n",
      "15\n",
      "(0.19230477921684466, 0.0049112378646642384)\n",
      "Spearman rank correlation  -0.239229783817\n",
      "Spearman p-value 1.30284755562e-05\n",
      "The simulated p-vale for the KS statistic in Pi_NV based on |RRM_T|  0.00381\n",
      "381\n",
      "The simulated p-vale for the Spearman rho in |RRM_T| for the simulation is 3e-05\n",
      "3\n",
      "16\n",
      "(0.21573084791998184, 0.0010425749309139094)\n",
      "Spearman rank correlation  -0.333463205402\n",
      "Spearman p-value 7.01282366758e-10\n",
      "The simulated p-vale for the KS statistic in Pi_NV based on |RRM_T|  0.00066\n",
      "66\n",
      "The simulated p-vale for the Spearman rho in |RRM_T| for the simulation is 0.0\n",
      "0\n",
      "17\n",
      "(0.24835264712565278, 8.8757600357869325e-05)\n",
      "Spearman rank correlation  -0.294656296433\n",
      "Spearman p-value 6.22719801424e-08\n",
      "The simulated p-vale for the KS statistic in Pi_NV based on |RRM_T|  9e-05\n",
      "9\n",
      "The simulated p-vale for the Spearman rho in |RRM_T| for the simulation is 0.0\n",
      "0\n",
      "18\n",
      "(0.21481593697924578, 0.0011083083021136394)\n",
      "Spearman rank correlation  -0.262032544988\n",
      "Spearman p-value 1.671105476e-06\n",
      "The simulated p-vale for the KS statistic in Pi_NV based on |RRM_T|  0.00066\n",
      "66\n",
      "The simulated p-vale for the Spearman rho in |RRM_T| for the simulation is 0.0\n",
      "0\n",
      "19\n",
      "(0.22960690752101773, 0.00038063746938253205)\n",
      "Spearman rank correlation  -0.324190129485\n",
      "Spearman p-value 2.17333566578e-09\n",
      "The simulated p-vale for the KS statistic in Pi_NV based on |RRM_T|  0.00016\n",
      "16\n",
      "The simulated p-vale for the Spearman rho in |RRM_T| for the simulation is 0.0\n",
      "0\n",
      "DONE\n"
     ]
    }
   ],
   "source": [
    "# I have draw 283 sources\n",
    "test=new[(new['Pi_NV_lim']==1) & (new['RM_T']!=-1000) & (new['MedRM_T']!=-1000)]\n",
    "Pinv=test['Pi_NV'].to_numpy()\n",
    "RRMT=np.absolute((test['RM_T']-test['MedRM_T']).to_numpy())\n",
    "num2=20\n",
    "pks=np.zeros(num2)-100\n",
    "psp=np.zeros(num2)-100\n",
    "for l in range(num2):\n",
    "    print l\n",
    "    idrandom=np.int_(np.random.rand(325)*355)\n",
    "    num=100000\n",
    "    var2=Pinv[idrandom]\n",
    "    var1=RRMT[idrandom]\n",
    "    var2_random=randomize(var2,num)\n",
    "    #print np.shape(var2_random)\n",
    "    var1_random=randomize(var1,num)\n",
    "    #fig5=plt.plot(var1,var2,'.')\n",
    "\n",
    "    med=np.median(var1)\n",
    "    half1=var2[np.where(var1< med)]\n",
    "    half2=var2[np.where(var1>= med)]\n",
    "    ks_main3=stats.mstats.ks_twosamp(half1,half2)\n",
    "    print ks_main3\n",
    "    rho3, spvalue3 =stats.spearmanr(var1,var2)\n",
    "    print 'Spearman rank correlation ', rho3\n",
    "    print 'Spearman p-value', spvalue3\n",
    "\n",
    "    ks1=np.zeros(num)-1\n",
    "    pval=np.zeros(num)-1\n",
    "    rho=np.zeros(num)-1\n",
    "    sp_value=np.zeros(num)-1\n",
    "    for i in range(num):\n",
    "        j=i*len(var1)\n",
    "        var1i=var1_random[j:j+len(var1)]\n",
    "        var21=var2_random[j:j+len(var1)]\n",
    "        medi=np.median(var1i)\n",
    "        half1=var21[np.where(var1i < medi )]\n",
    "        half2=var21[np.where(var1i >= medi)]\n",
    "        res=stats.mstats.ks_twosamp(half1,half2)\n",
    "        ks1[i]=res[0]\n",
    "        pval[i]=res[1]\n",
    "        res2=stats.spearmanr(var1i,var21)\n",
    "        rho[i] =res2[0]\n",
    "        sp_value[i]=res2[1]\n",
    "\n",
    "        #print 'Done!'\n",
    "    howmany3=np.where(ks1 >=ks_main3[0])\n",
    "    frac3=len(howmany3[0])/float(num)\n",
    "    pks[l]=frac3\n",
    "    print 'The simulated p-vale for the KS statistic in Pi_NV based on |RRM_T| ', frac3 \n",
    "    print len(howmany3[0])\n",
    "\n",
    "    howmany33=np.where(np.absolute(rho) >=np.absolute(rho3))\n",
    "    frac33=len(howmany33[0])/float(num)\n",
    "    psp[l]=frac33\n",
    "    print 'The simulated p-vale for the Spearman rho in |RRM_T| for the simulation is', frac33 \n",
    "    print len(howmany33[0])\n",
    "print 'DONE'"
   ]
  },
  {
   "cell_type": "code",
   "execution_count": 184,
   "metadata": {
    "collapsed": false
   },
   "outputs": [
    {
     "name": "stdout",
     "output_type": "stream",
     "text": [
      "0.000585\n",
      "0.0\n"
     ]
    }
   ],
   "source": [
    "print np.median(pks)\n",
    "print np.median(psp)"
   ]
  },
  {
   "cell_type": "code",
   "execution_count": 194,
   "metadata": {
    "collapsed": false
   },
   "outputs": [
    {
     "data": {
      "image/png": "[encoded data removed]",
      "text/plain": [
       "<matplotlib.figure.Figure at 0x112dac810>"
      ]
     },
     "metadata": {},
     "output_type": "display_data"
    }
   ],
   "source": [
    "bin=(np.max(psp)-np.min(psp))/10.0\n",
    "fig7=plt.hist(psp,bins=30,label='Spearman p-value')\n",
    "plt.xscale(\"log\")"
   ]
  },
  {
   "cell_type": "code",
   "execution_count": 193,
   "metadata": {
    "collapsed": false
   },
   "outputs": [
    {
     "data": {
      "image/png": "[encoded data removed]",
      "text/plain": [
       "<matplotlib.figure.Figure at 0x11bf51490>"
      ]
     },
     "metadata": {},
     "output_type": "display_data"
    }
   ],
   "source": [
    "bin=(np.max(pks)-np.min(pks))/100.0\n",
    "fig6=plt.hist(pks,bins=30,label='KS-p-value')\n",
    "plt.xscale(\"log\")"
   ]
  },
  {
   "cell_type": "code",
   "execution_count": 209,
   "metadata": {
    "collapsed": false
   },
   "outputs": [
    {
     "name": "stdout",
     "output_type": "stream",
     "text": [
      "733.84 11.42 1057.46 33.2\n"
     ]
    }
   ],
   "source": [
    "print np.median(All['I_SP']),np.median(All['I_SP_err']),np.median(All['I_NV']),np.median(All['I_NV_err'])"
   ]
  },
  {
   "cell_type": "markdown",
   "metadata": {},
   "source": [
    "## Fixing the lmn and lmj column and checking the new \"SPASS-NVSS-V2.csv\""
   ]
  },
  {
   "cell_type": "code",
   "execution_count": 17,
   "metadata": {
    "collapsed": false
   },
   "outputs": [
    {
     "name": "stdout",
     "output_type": "stream",
     "text": [
      "PROGRESS: Finished parsing file /Users/Mehdi/Dropbox/SPASS/Paper_shared_Larry/ToSubmit/SPASS-NVSS.csv\n",
      "PROGRESS: Parsing completed. Parsed 100 lines in 0.024783 secs.\n",
      "------------------------------------------------------\n",
      "Inferred types from first line of file as \n",
      "column_type_hints=[str,float,float,float,float,float,float,float,float,float,float,int,float,float,float,int,float,int,float,float,float,float,float,float,int,float,float,float,float,float,float,float,float,float,float,float,float,float,int,float,float,float,float,float,float,float,float,float,float]\n",
      "If parsing fails due to incorrect types, you can correct\n",
      "the inferred type list above and pass it to read_csv in\n",
      "the column_type_hints argument\n",
      "------------------------------------------------------\n",
      "PROGRESS: Finished parsing file /Users/Mehdi/Dropbox/SPASS/Paper_shared_Larry/ToSubmit/SPASS-NVSS.csv\n",
      "PROGRESS: Parsing completed. Parsed 533 lines in 0.011698 secs.\n",
      "PROGRESS: Finished parsing file /Users/Mehdi/Dropbox/SPASS/SPASS-NVSS-V2.csv\n",
      "PROGRESS: Parsing completed. Parsed 100 lines in 0.015964 secs.\n",
      "------------------------------------------------------\n",
      "Inferred types from first line of file as \n",
      "column_type_hints=[str,float,float,float,float,float,float,float,float,float,float,int,float,float,float,int,float,int,float,float,float,float,float,float,int,float,float,float,float,float,float,float,float,float,float,float,float,float,int,float,float,float,float,float,float,float,float,float,float]\n",
      "If parsing fails due to incorrect types, you can correct\n",
      "the inferred type list above and pass it to read_csv in\n",
      "the column_type_hints argument\n",
      "------------------------------------------------------\n",
      "PROGRESS: Finished parsing file /Users/Mehdi/Dropbox/SPASS/SPASS-NVSS-V2.csv\n",
      "PROGRESS: Parsing completed. Parsed 533 lines in 0.011417 secs.\n"
     ]
    }
   ],
   "source": [
    "All1=sf.SFrame.read_csv('/Users/Mehdi/Dropbox/SPASS/Paper_shared_Larry/ToSubmit/SPASS-NVSS.csv',header=False)#,  tag,ra, dec, gl, gb, fct, ferr, nvp1, nvp1er, nvfp, nvfper, nvlim, thnv2, thnv2er, mj, lmj, mn, lmn, fspfit, efspi, fsp_p3s, efsp_p3s, spfp,spfper, splim, thsp2, thsp2er, al, aler, depol, der, rmt2, rmt2er, rm2 ,rm2er , drm2 , drm2er,format=fmt\n",
    "All2=sf.SFrame.read_csv('/Users/Mehdi/Dropbox/SPASS/SPASS-NVSS-V2.csv',header=False)#,  tag,ra, dec, gl, gb, fct, ferr, nvp1, nvp1er, nvfp, nvfper, nvlim, thnv2, thnv2er, mj, lmj, mn, lmn, fspfit, efspi, fsp_p3s, efsp_p3s, spfp,spfper, splim, thsp2, thsp2er, al, aler, depol, der, rmt2, rmt2er, rm2 ,rm2er , drm2 , drm2er,format=fmt\n"
   ]
  },
  {
   "cell_type": "code",
   "execution_count": 237,
   "metadata": {
    "collapsed": false
   },
   "outputs": [
    {
     "name": "stdout",
     "output_type": "stream",
     "text": [
      "[0, 0, 0, 0, 0, 0, 0, 0, 0, 0, 0, 0, 0, 0, 0, 0, 0, 0, 0, 0, 0, 0, 0, 0, 0, 0, 0, 0, 0, 0, 0, 0, 0, 0, 0, 0, 0, 0, 0, 0, 0, 0, 0, 0, 0, 0, 0, 0, 0, 0, 0, 0, 0, 0, 0, 0, 0, 0, 0, 0, 0, 0, 0, 0, 0, 0, 0, 0, 0, 0, 0, 0, 0, 0, 0, 0, 0, 0, 0, 0, 0, 0, 0, 0, 0, 0, 0, 0, 0, 0, 0, 0, 0, 0, 0, 0, 0, 0, 0, 0]\n"
     ]
    }
   ],
   "source": [
    "res16=All1['X16']+All2['X16']\n",
    "res16.to_numpy()\n",
    "print res16[-500:-400]"
   ]
  },
  {
   "cell_type": "code",
   "execution_count": 247,
   "metadata": {
    "collapsed": false
   },
   "outputs": [
    {
     "name": "stdout",
     "output_type": "stream",
     "text": [
      "[0, 0, 0, 0, 0, 0, 0, 0, 0, 0, 0, 0, 0, 0, 0, 0, 0, 0, 0, 0, 0, 0, 0, 0, 0, 0, 0, 0, 0, 0, 0, 0, 0, 0, 0, 0, 0, 0, 0, 0, 0, 0, 0, 0, 0, 0, 0, 0, 0, 0, 0, 0, 0, 0, 0, 0, 0, 0, 0, 0, 0, 0, 0, 0, 0, 0, 0, 0, 0, 0, 0, 0, 0, 0, 0, 0, 0, 0, 0, 0, 0, 0, 0, 0, 0, 0, 0, 0, 0, 0, 0, 0, 0, 0, 0, 0, 0, 0, 0, 0]\n"
     ]
    }
   ],
   "source": [
    "res18=All1['X18']+All2['X18']\n",
    "res18.to_numpy()\n",
    "print res18[433:533]"
   ]
  },
  {
   "cell_type": "code",
   "execution_count": 18,
   "metadata": {
    "collapsed": false
   },
   "outputs": [
    {
     "data": {
      "text/html": [
       "<div style=\"max-height:1000px;max-width:1500px;overflow:auto;\"><table frame=\"box\" rules=\"cols\">\n",
       "    <tr>\n",
       "        <th style=\"padding-left: 1em; padding-right: 1em; text-align: center\">X1</th>\n",
       "        <th style=\"padding-left: 1em; padding-right: 1em; text-align: center\">X2</th>\n",
       "        <th style=\"padding-left: 1em; padding-right: 1em; text-align: center\">X3</th>\n",
       "        <th style=\"padding-left: 1em; padding-right: 1em; text-align: center\">X4</th>\n",
       "        <th style=\"padding-left: 1em; padding-right: 1em; text-align: center\">X5</th>\n",
       "        <th style=\"padding-left: 1em; padding-right: 1em; text-align: center\">X6</th>\n",
       "        <th style=\"padding-left: 1em; padding-right: 1em; text-align: center\">X7</th>\n",
       "        <th style=\"padding-left: 1em; padding-right: 1em; text-align: center\">X8</th>\n",
       "        <th style=\"padding-left: 1em; padding-right: 1em; text-align: center\">X9</th>\n",
       "        <th style=\"padding-left: 1em; padding-right: 1em; text-align: center\">X10</th>\n",
       "        <th style=\"padding-left: 1em; padding-right: 1em; text-align: center\">X11</th>\n",
       "        <th style=\"padding-left: 1em; padding-right: 1em; text-align: center\">X12</th>\n",
       "    </tr>\n",
       "    <tr>\n",
       "        <td style=\"padding-left: 1em; padding-right: 1em; text-align: center; vertical-align: top\">J043736-295405</td>\n",
       "        <td style=\"padding-left: 1em; padding-right: 1em; text-align: center; vertical-align: top\">69.40246</td>\n",
       "        <td style=\"padding-left: 1em; padding-right: 1em; text-align: center; vertical-align: top\">-29.90147</td>\n",
       "        <td style=\"padding-left: 1em; padding-right: 1em; text-align: center; vertical-align: top\">230.26648</td>\n",
       "        <td style=\"padding-left: 1em; padding-right: 1em; text-align: center; vertical-align: top\">-40.7423</td>\n",
       "        <td style=\"padding-left: 1em; padding-right: 1em; text-align: center; vertical-align: top\">1124.77</td>\n",
       "        <td style=\"padding-left: 1em; padding-right: 1em; text-align: center; vertical-align: top\">38.2</td>\n",
       "        <td style=\"padding-left: 1em; padding-right: 1em; text-align: center; vertical-align: top\">34.1</td>\n",
       "        <td style=\"padding-left: 1em; padding-right: 1em; text-align: center; vertical-align: top\">0.3</td>\n",
       "        <td style=\"padding-left: 1em; padding-right: 1em; text-align: center; vertical-align: top\">0.0303</td>\n",
       "        <td style=\"padding-left: 1em; padding-right: 1em; text-align: center; vertical-align: top\">0.0011</td>\n",
       "        <td style=\"padding-left: 1em; padding-right: 1em; text-align: center; vertical-align: top\">1</td>\n",
       "    </tr>\n",
       "    <tr>\n",
       "        <td style=\"padding-left: 1em; padding-right: 1em; text-align: center; vertical-align: top\">J043300-295613</td>\n",
       "        <td style=\"padding-left: 1em; padding-right: 1em; text-align: center; vertical-align: top\">68.25158</td>\n",
       "        <td style=\"padding-left: 1em; padding-right: 1em; text-align: center; vertical-align: top\">-29.93694</td>\n",
       "        <td style=\"padding-left: 1em; padding-right: 1em; text-align: center; vertical-align: top\">230.05385</td>\n",
       "        <td style=\"padding-left: 1em; padding-right: 1em; text-align: center; vertical-align: top\">-41.72754</td>\n",
       "        <td style=\"padding-left: 1em; padding-right: 1em; text-align: center; vertical-align: top\">1116.89</td>\n",
       "        <td style=\"padding-left: 1em; padding-right: 1em; text-align: center; vertical-align: top\">36.4</td>\n",
       "        <td style=\"padding-left: 1em; padding-right: 1em; text-align: center; vertical-align: top\">63.66</td>\n",
       "        <td style=\"padding-left: 1em; padding-right: 1em; text-align: center; vertical-align: top\">0.3</td>\n",
       "        <td style=\"padding-left: 1em; padding-right: 1em; text-align: center; vertical-align: top\">0.057</td>\n",
       "        <td style=\"padding-left: 1em; padding-right: 1em; text-align: center; vertical-align: top\">0.0019</td>\n",
       "        <td style=\"padding-left: 1em; padding-right: 1em; text-align: center; vertical-align: top\">1</td>\n",
       "    </tr>\n",
       "    <tr>\n",
       "        <td style=\"padding-left: 1em; padding-right: 1em; text-align: center; vertical-align: top\">J045514-300647</td>\n",
       "        <td style=\"padding-left: 1em; padding-right: 1em; text-align: center; vertical-align: top\">73.80962</td>\n",
       "        <td style=\"padding-left: 1em; padding-right: 1em; text-align: center; vertical-align: top\">-30.11311</td>\n",
       "        <td style=\"padding-left: 1em; padding-right: 1em; text-align: center; vertical-align: top\">231.56537</td>\n",
       "        <td style=\"padding-left: 1em; padding-right: 1em; text-align: center; vertical-align: top\">-37.0562</td>\n",
       "        <td style=\"padding-left: 1em; padding-right: 1em; text-align: center; vertical-align: top\">3446.27</td>\n",
       "        <td style=\"padding-left: 1em; padding-right: 1em; text-align: center; vertical-align: top\">107.6</td>\n",
       "        <td style=\"padding-left: 1em; padding-right: 1em; text-align: center; vertical-align: top\">140.08</td>\n",
       "        <td style=\"padding-left: 1em; padding-right: 1em; text-align: center; vertical-align: top\">0.32</td>\n",
       "        <td style=\"padding-left: 1em; padding-right: 1em; text-align: center; vertical-align: top\">0.0406</td>\n",
       "        <td style=\"padding-left: 1em; padding-right: 1em; text-align: center; vertical-align: top\">0.0013</td>\n",
       "        <td style=\"padding-left: 1em; padding-right: 1em; text-align: center; vertical-align: top\">1</td>\n",
       "    </tr>\n",
       "    <tr>\n",
       "        <td style=\"padding-left: 1em; padding-right: 1em; text-align: center; vertical-align: top\">J001035-302745</td>\n",
       "        <td style=\"padding-left: 1em; padding-right: 1em; text-align: center; vertical-align: top\">2.64867</td>\n",
       "        <td style=\"padding-left: 1em; padding-right: 1em; text-align: center; vertical-align: top\">-30.46275</td>\n",
       "        <td style=\"padding-left: 1em; padding-right: 1em; text-align: center; vertical-align: top\">10.08143</td>\n",
       "        <td style=\"padding-left: 1em; padding-right: 1em; text-align: center; vertical-align: top\">-80.45551</td>\n",
       "        <td style=\"padding-left: 1em; padding-right: 1em; text-align: center; vertical-align: top\">347.27</td>\n",
       "        <td style=\"padding-left: 1em; padding-right: 1em; text-align: center; vertical-align: top\">9.5</td>\n",
       "        <td style=\"padding-left: 1em; padding-right: 1em; text-align: center; vertical-align: top\">2.87</td>\n",
       "        <td style=\"padding-left: 1em; padding-right: 1em; text-align: center; vertical-align: top\">0.31</td>\n",
       "        <td style=\"padding-left: 1em; padding-right: 1em; text-align: center; vertical-align: top\">0.0083</td>\n",
       "        <td style=\"padding-left: 1em; padding-right: 1em; text-align: center; vertical-align: top\">0.0009</td>\n",
       "        <td style=\"padding-left: 1em; padding-right: 1em; text-align: center; vertical-align: top\">1</td>\n",
       "    </tr>\n",
       "    <tr>\n",
       "        <td style=\"padding-left: 1em; padding-right: 1em; text-align: center; vertical-align: top\">J235935-313341</td>\n",
       "        <td style=\"padding-left: 1em; padding-right: 1em; text-align: center; vertical-align: top\">359.8978</td>\n",
       "        <td style=\"padding-left: 1em; padding-right: 1em; text-align: center; vertical-align: top\">-31.56164</td>\n",
       "        <td style=\"padding-left: 1em; padding-right: 1em; text-align: center; vertical-align: top\">8.40692</td>\n",
       "        <td style=\"padding-left: 1em; padding-right: 1em; text-align: center; vertical-align: top\">-77.87329</td>\n",
       "        <td style=\"padding-left: 1em; padding-right: 1em; text-align: center; vertical-align: top\">350.48</td>\n",
       "        <td style=\"padding-left: 1em; padding-right: 1em; text-align: center; vertical-align: top\">10.4</td>\n",
       "        <td style=\"padding-left: 1em; padding-right: 1em; text-align: center; vertical-align: top\">5.21</td>\n",
       "        <td style=\"padding-left: 1em; padding-right: 1em; text-align: center; vertical-align: top\">0.29</td>\n",
       "        <td style=\"padding-left: 1em; padding-right: 1em; text-align: center; vertical-align: top\">0.0149</td>\n",
       "        <td style=\"padding-left: 1em; padding-right: 1em; text-align: center; vertical-align: top\">0.0009</td>\n",
       "        <td style=\"padding-left: 1em; padding-right: 1em; text-align: center; vertical-align: top\">1</td>\n",
       "    </tr>\n",
       "    <tr>\n",
       "        <td style=\"padding-left: 1em; padding-right: 1em; text-align: center; vertical-align: top\">J001259-395425</td>\n",
       "        <td style=\"padding-left: 1em; padding-right: 1em; text-align: center; vertical-align: top\">3.24979</td>\n",
       "        <td style=\"padding-left: 1em; padding-right: 1em; text-align: center; vertical-align: top\">-39.90714</td>\n",
       "        <td style=\"padding-left: 1em; padding-right: 1em; text-align: center; vertical-align: top\">332.45776</td>\n",
       "        <td style=\"padding-left: 1em; padding-right: 1em; text-align: center; vertical-align: top\">-74.93929</td>\n",
       "        <td style=\"padding-left: 1em; padding-right: 1em; text-align: center; vertical-align: top\">493.6</td>\n",
       "        <td style=\"padding-left: 1em; padding-right: 1em; text-align: center; vertical-align: top\">17.4</td>\n",
       "        <td style=\"padding-left: 1em; padding-right: 1em; text-align: center; vertical-align: top\">12.24</td>\n",
       "        <td style=\"padding-left: 1em; padding-right: 1em; text-align: center; vertical-align: top\">0.31</td>\n",
       "        <td style=\"padding-left: 1em; padding-right: 1em; text-align: center; vertical-align: top\">0.0248</td>\n",
       "        <td style=\"padding-left: 1em; padding-right: 1em; text-align: center; vertical-align: top\">0.0011</td>\n",
       "        <td style=\"padding-left: 1em; padding-right: 1em; text-align: center; vertical-align: top\">1</td>\n",
       "    </tr>\n",
       "    <tr>\n",
       "        <td style=\"padding-left: 1em; padding-right: 1em; text-align: center; vertical-align: top\">J000020-322059</td>\n",
       "        <td style=\"padding-left: 1em; padding-right: 1em; text-align: center; vertical-align: top\">0.08471</td>\n",
       "        <td style=\"padding-left: 1em; padding-right: 1em; text-align: center; vertical-align: top\">-32.34972</td>\n",
       "        <td style=\"padding-left: 1em; padding-right: 1em; text-align: center; vertical-align: top\">4.64173</td>\n",
       "        <td style=\"padding-left: 1em; padding-right: 1em; text-align: center; vertical-align: top\">-77.75222</td>\n",
       "        <td style=\"padding-left: 1em; padding-right: 1em; text-align: center; vertical-align: top\">520.9</td>\n",
       "        <td style=\"padding-left: 1em; padding-right: 1em; text-align: center; vertical-align: top\">15.6</td>\n",
       "        <td style=\"padding-left: 1em; padding-right: 1em; text-align: center; vertical-align: top\">1.16</td>\n",
       "        <td style=\"padding-left: 1em; padding-right: 1em; text-align: center; vertical-align: top\">0.31</td>\n",
       "        <td style=\"padding-left: 1em; padding-right: 1em; text-align: center; vertical-align: top\">0.0022</td>\n",
       "        <td style=\"padding-left: 1em; padding-right: 1em; text-align: center; vertical-align: top\">0.0006</td>\n",
       "        <td style=\"padding-left: 1em; padding-right: 1em; text-align: center; vertical-align: top\">1</td>\n",
       "    </tr>\n",
       "    <tr>\n",
       "        <td style=\"padding-left: 1em; padding-right: 1em; text-align: center; vertical-align: top\">J010403-395023</td>\n",
       "        <td style=\"padding-left: 1em; padding-right: 1em; text-align: center; vertical-align: top\">16.01592</td>\n",
       "        <td style=\"padding-left: 1em; padding-right: 1em; text-align: center; vertical-align: top\">-39.83972</td>\n",
       "        <td style=\"padding-left: 1em; padding-right: 1em; text-align: center; vertical-align: top\">292.08127</td>\n",
       "        <td style=\"padding-left: 1em; padding-right: 1em; text-align: center; vertical-align: top\">-77.02134</td>\n",
       "        <td style=\"padding-left: 1em; padding-right: 1em; text-align: center; vertical-align: top\">850.21</td>\n",
       "        <td style=\"padding-left: 1em; padding-right: 1em; text-align: center; vertical-align: top\">24.1</td>\n",
       "        <td style=\"padding-left: 1em; padding-right: 1em; text-align: center; vertical-align: top\">102.35</td>\n",
       "        <td style=\"padding-left: 1em; padding-right: 1em; text-align: center; vertical-align: top\">0.35</td>\n",
       "        <td style=\"padding-left: 1em; padding-right: 1em; text-align: center; vertical-align: top\">0.1204</td>\n",
       "        <td style=\"padding-left: 1em; padding-right: 1em; text-align: center; vertical-align: top\">0.0034</td>\n",
       "        <td style=\"padding-left: 1em; padding-right: 1em; text-align: center; vertical-align: top\">1</td>\n",
       "    </tr>\n",
       "    <tr>\n",
       "        <td style=\"padding-left: 1em; padding-right: 1em; text-align: center; vertical-align: top\">J001217-332157</td>\n",
       "        <td style=\"padding-left: 1em; padding-right: 1em; text-align: center; vertical-align: top\">3.07483</td>\n",
       "        <td style=\"padding-left: 1em; padding-right: 1em; text-align: center; vertical-align: top\">-33.36606</td>\n",
       "        <td style=\"padding-left: 1em; padding-right: 1em; text-align: center; vertical-align: top\">354.11316</td>\n",
       "        <td style=\"padding-left: 1em; padding-right: 1em; text-align: center; vertical-align: top\">-79.5038</td>\n",
       "        <td style=\"padding-left: 1em; padding-right: 1em; text-align: center; vertical-align: top\">857.65</td>\n",
       "        <td style=\"padding-left: 1em; padding-right: 1em; text-align: center; vertical-align: top\">25.5</td>\n",
       "        <td style=\"padding-left: 1em; padding-right: 1em; text-align: center; vertical-align: top\">22.3</td>\n",
       "        <td style=\"padding-left: 1em; padding-right: 1em; text-align: center; vertical-align: top\">0.31</td>\n",
       "        <td style=\"padding-left: 1em; padding-right: 1em; text-align: center; vertical-align: top\">0.026</td>\n",
       "        <td style=\"padding-left: 1em; padding-right: 1em; text-align: center; vertical-align: top\">0.0009</td>\n",
       "        <td style=\"padding-left: 1em; padding-right: 1em; text-align: center; vertical-align: top\">1</td>\n",
       "    </tr>\n",
       "    <tr>\n",
       "        <td style=\"padding-left: 1em; padding-right: 1em; text-align: center; vertical-align: top\">J010925-344715</td>\n",
       "        <td style=\"padding-left: 1em; padding-right: 1em; text-align: center; vertical-align: top\">17.35683</td>\n",
       "        <td style=\"padding-left: 1em; padding-right: 1em; text-align: center; vertical-align: top\">-34.78758</td>\n",
       "        <td style=\"padding-left: 1em; padding-right: 1em; text-align: center; vertical-align: top\">277.33636</td>\n",
       "        <td style=\"padding-left: 1em; padding-right: 1em; text-align: center; vertical-align: top\">-81.42731</td>\n",
       "        <td style=\"padding-left: 1em; padding-right: 1em; text-align: center; vertical-align: top\">1020.57</td>\n",
       "        <td style=\"padding-left: 1em; padding-right: 1em; text-align: center; vertical-align: top\">30.6</td>\n",
       "        <td style=\"padding-left: 1em; padding-right: 1em; text-align: center; vertical-align: top\">8.8</td>\n",
       "        <td style=\"padding-left: 1em; padding-right: 1em; text-align: center; vertical-align: top\">0.24</td>\n",
       "        <td style=\"padding-left: 1em; padding-right: 1em; text-align: center; vertical-align: top\">0.0086</td>\n",
       "        <td style=\"padding-left: 1em; padding-right: 1em; text-align: center; vertical-align: top\">0.0003</td>\n",
       "        <td style=\"padding-left: 1em; padding-right: 1em; text-align: center; vertical-align: top\">1</td>\n",
       "    </tr>\n",
       "</table>\n",
       "<table frame=\"box\" rules=\"cols\">\n",
       "    <tr>\n",
       "        <th style=\"padding-left: 1em; padding-right: 1em; text-align: center\">X13</th>\n",
       "        <th style=\"padding-left: 1em; padding-right: 1em; text-align: center\">X14</th>\n",
       "        <th style=\"padding-left: 1em; padding-right: 1em; text-align: center\">X15</th>\n",
       "        <th style=\"padding-left: 1em; padding-right: 1em; text-align: center\">X16</th>\n",
       "        <th style=\"padding-left: 1em; padding-right: 1em; text-align: center\">X17</th>\n",
       "        <th style=\"padding-left: 1em; padding-right: 1em; text-align: center\">X18</th>\n",
       "        <th style=\"padding-left: 1em; padding-right: 1em; text-align: center\">X19</th>\n",
       "        <th style=\"padding-left: 1em; padding-right: 1em; text-align: center\">X20</th>\n",
       "        <th style=\"padding-left: 1em; padding-right: 1em; text-align: center\">X21</th>\n",
       "        <th style=\"padding-left: 1em; padding-right: 1em; text-align: center\">X22</th>\n",
       "        <th style=\"padding-left: 1em; padding-right: 1em; text-align: center\">X23</th>\n",
       "        <th style=\"padding-left: 1em; padding-right: 1em; text-align: center\">X24</th>\n",
       "        <th style=\"padding-left: 1em; padding-right: 1em; text-align: center\">X25</th>\n",
       "        <th style=\"padding-left: 1em; padding-right: 1em; text-align: center\">X26</th>\n",
       "    </tr>\n",
       "    <tr>\n",
       "        <td style=\"padding-left: 1em; padding-right: 1em; text-align: center; vertical-align: top\">-43.445</td>\n",
       "        <td style=\"padding-left: 1em; padding-right: 1em; text-align: center; vertical-align: top\">0.2772</td>\n",
       "        <td style=\"padding-left: 1em; padding-right: 1em; text-align: center; vertical-align: top\">17.2</td>\n",
       "        <td style=\"padding-left: 1em; padding-right: 1em; text-align: center; vertical-align: top\">1</td>\n",
       "        <td style=\"padding-left: 1em; padding-right: 1em; text-align: center; vertical-align: top\">16.0</td>\n",
       "        <td style=\"padding-left: 1em; padding-right: 1em; text-align: center; vertical-align: top\">-1</td>\n",
       "        <td style=\"padding-left: 1em; padding-right: 1em; text-align: center; vertical-align: top\">953.27</td>\n",
       "        <td style=\"padding-left: 1em; padding-right: 1em; text-align: center; vertical-align: top\">13.25</td>\n",
       "        <td style=\"padding-left: 1em; padding-right: 1em; text-align: center; vertical-align: top\">9.4</td>\n",
       "        <td style=\"padding-left: 1em; padding-right: 1em; text-align: center; vertical-align: top\">2.1</td>\n",
       "        <td style=\"padding-left: 1em; padding-right: 1em; text-align: center; vertical-align: top\">0.0099</td>\n",
       "        <td style=\"padding-left: 1em; padding-right: 1em; text-align: center; vertical-align: top\">0.0022</td>\n",
       "        <td style=\"padding-left: 1em; padding-right: 1em; text-align: center; vertical-align: top\">1</td>\n",
       "        <td style=\"padding-left: 1em; padding-right: 1em; text-align: center; vertical-align: top\">-33.7039</td>\n",
       "    </tr>\n",
       "    <tr>\n",
       "        <td style=\"padding-left: 1em; padding-right: 1em; text-align: center; vertical-align: top\">-89.5095</td>\n",
       "        <td style=\"padding-left: 1em; padding-right: 1em; text-align: center; vertical-align: top\">0.1395</td>\n",
       "        <td style=\"padding-left: 1em; padding-right: 1em; text-align: center; vertical-align: top\">37.0</td>\n",
       "        <td style=\"padding-left: 1em; padding-right: 1em; text-align: center; vertical-align: top\">1</td>\n",
       "        <td style=\"padding-left: 1em; padding-right: 1em; text-align: center; vertical-align: top\">18.0</td>\n",
       "        <td style=\"padding-left: 1em; padding-right: 1em; text-align: center; vertical-align: top\">-1</td>\n",
       "        <td style=\"padding-left: 1em; padding-right: 1em; text-align: center; vertical-align: top\">634.77</td>\n",
       "        <td style=\"padding-left: 1em; padding-right: 1em; text-align: center; vertical-align: top\">11.82</td>\n",
       "        <td style=\"padding-left: 1em; padding-right: 1em; text-align: center; vertical-align: top\">45.42</td>\n",
       "        <td style=\"padding-left: 1em; padding-right: 1em; text-align: center; vertical-align: top\">2.03</td>\n",
       "        <td style=\"padding-left: 1em; padding-right: 1em; text-align: center; vertical-align: top\">0.0716</td>\n",
       "        <td style=\"padding-left: 1em; padding-right: 1em; text-align: center; vertical-align: top\">0.0035</td>\n",
       "        <td style=\"padding-left: 1em; padding-right: 1em; text-align: center; vertical-align: top\">1</td>\n",
       "        <td style=\"padding-left: 1em; padding-right: 1em; text-align: center; vertical-align: top\">53.2506</td>\n",
       "    </tr>\n",
       "    <tr>\n",
       "        <td style=\"padding-left: 1em; padding-right: 1em; text-align: center; vertical-align: top\">-83.8585</td>\n",
       "        <td style=\"padding-left: 1em; padding-right: 1em; text-align: center; vertical-align: top\">0.0674</td>\n",
       "        <td style=\"padding-left: 1em; padding-right: 1em; text-align: center; vertical-align: top\">61.1</td>\n",
       "        <td style=\"padding-left: 1em; padding-right: 1em; text-align: center; vertical-align: top\">1</td>\n",
       "        <td style=\"padding-left: 1em; padding-right: 1em; text-align: center; vertical-align: top\">17.0</td>\n",
       "        <td style=\"padding-left: 1em; padding-right: 1em; text-align: center; vertical-align: top\">-1</td>\n",
       "        <td style=\"padding-left: 1em; padding-right: 1em; text-align: center; vertical-align: top\">2100.51</td>\n",
       "        <td style=\"padding-left: 1em; padding-right: 1em; text-align: center; vertical-align: top\">10.75</td>\n",
       "        <td style=\"padding-left: 1em; padding-right: 1em; text-align: center; vertical-align: top\">101.83</td>\n",
       "        <td style=\"padding-left: 1em; padding-right: 1em; text-align: center; vertical-align: top\">1.93</td>\n",
       "        <td style=\"padding-left: 1em; padding-right: 1em; text-align: center; vertical-align: top\">0.0485</td>\n",
       "        <td style=\"padding-left: 1em; padding-right: 1em; text-align: center; vertical-align: top\">0.001</td>\n",
       "        <td style=\"padding-left: 1em; padding-right: 1em; text-align: center; vertical-align: top\">1</td>\n",
       "        <td style=\"padding-left: 1em; padding-right: 1em; text-align: center; vertical-align: top\">-89.8678</td>\n",
       "    </tr>\n",
       "    <tr>\n",
       "        <td style=\"padding-left: 1em; padding-right: 1em; text-align: center; vertical-align: top\">62.0097</td>\n",
       "        <td style=\"padding-left: 1em; padding-right: 1em; text-align: center; vertical-align: top\">3.1054</td>\n",
       "        <td style=\"padding-left: 1em; padding-right: 1em; text-align: center; vertical-align: top\">17.4</td>\n",
       "        <td style=\"padding-left: 1em; padding-right: 1em; text-align: center; vertical-align: top\">-1</td>\n",
       "        <td style=\"padding-left: 1em; padding-right: 1em; text-align: center; vertical-align: top\">15.0</td>\n",
       "        <td style=\"padding-left: 1em; padding-right: 1em; text-align: center; vertical-align: top\">-1</td>\n",
       "        <td style=\"padding-left: 1em; padding-right: 1em; text-align: center; vertical-align: top\">598.41</td>\n",
       "        <td style=\"padding-left: 1em; padding-right: 1em; text-align: center; vertical-align: top\">12.21</td>\n",
       "        <td style=\"padding-left: 1em; padding-right: 1em; text-align: center; vertical-align: top\">0.75</td>\n",
       "        <td style=\"padding-left: 1em; padding-right: 1em; text-align: center; vertical-align: top\">4.03</td>\n",
       "        <td style=\"padding-left: 1em; padding-right: 1em; text-align: center; vertical-align: top\">0.0082</td>\n",
       "        <td style=\"padding-left: 1em; padding-right: 1em; text-align: center; vertical-align: top\">0.0067</td>\n",
       "        <td style=\"padding-left: 1em; padding-right: 1em; text-align: center; vertical-align: top\">-1</td>\n",
       "        <td style=\"padding-left: 1em; padding-right: 1em; text-align: center; vertical-align: top\">None</td>\n",
       "    </tr>\n",
       "    <tr>\n",
       "        <td style=\"padding-left: 1em; padding-right: 1em; text-align: center; vertical-align: top\">-45.4939</td>\n",
       "        <td style=\"padding-left: 1em; padding-right: 1em; text-align: center; vertical-align: top\">1.6462</td>\n",
       "        <td style=\"padding-left: 1em; padding-right: 1em; text-align: center; vertical-align: top\">18.1</td>\n",
       "        <td style=\"padding-left: 1em; padding-right: 1em; text-align: center; vertical-align: top\">-1</td>\n",
       "        <td style=\"padding-left: 1em; padding-right: 1em; text-align: center; vertical-align: top\">16.0</td>\n",
       "        <td style=\"padding-left: 1em; padding-right: 1em; text-align: center; vertical-align: top\">-1</td>\n",
       "        <td style=\"padding-left: 1em; padding-right: 1em; text-align: center; vertical-align: top\">799.86</td>\n",
       "        <td style=\"padding-left: 1em; padding-right: 1em; text-align: center; vertical-align: top\">14.64</td>\n",
       "        <td style=\"padding-left: 1em; padding-right: 1em; text-align: center; vertical-align: top\">4.21</td>\n",
       "        <td style=\"padding-left: 1em; padding-right: 1em; text-align: center; vertical-align: top\">1.86</td>\n",
       "        <td style=\"padding-left: 1em; padding-right: 1em; text-align: center; vertical-align: top\">0.0065</td>\n",
       "        <td style=\"padding-left: 1em; padding-right: 1em; text-align: center; vertical-align: top\">0.0023</td>\n",
       "        <td style=\"padding-left: 1em; padding-right: 1em; text-align: center; vertical-align: top\">-1</td>\n",
       "        <td style=\"padding-left: 1em; padding-right: 1em; text-align: center; vertical-align: top\">None</td>\n",
       "    </tr>\n",
       "    <tr>\n",
       "        <td style=\"padding-left: 1em; padding-right: 1em; text-align: center; vertical-align: top\">-66.5239</td>\n",
       "        <td style=\"padding-left: 1em; padding-right: 1em; text-align: center; vertical-align: top\">0.7239</td>\n",
       "        <td style=\"padding-left: 1em; padding-right: 1em; text-align: center; vertical-align: top\">14.4</td>\n",
       "        <td style=\"padding-left: 1em; padding-right: 1em; text-align: center; vertical-align: top\">1</td>\n",
       "        <td style=\"padding-left: 1em; padding-right: 1em; text-align: center; vertical-align: top\">17.0</td>\n",
       "        <td style=\"padding-left: 1em; padding-right: 1em; text-align: center; vertical-align: top\">-1</td>\n",
       "        <td style=\"padding-left: 1em; padding-right: 1em; text-align: center; vertical-align: top\">896.93</td>\n",
       "        <td style=\"padding-left: 1em; padding-right: 1em; text-align: center; vertical-align: top\">10.68</td>\n",
       "        <td style=\"padding-left: 1em; padding-right: 1em; text-align: center; vertical-align: top\">2.48</td>\n",
       "        <td style=\"padding-left: 1em; padding-right: 1em; text-align: center; vertical-align: top\">1.92</td>\n",
       "        <td style=\"padding-left: 1em; padding-right: 1em; text-align: center; vertical-align: top\">0.0056</td>\n",
       "        <td style=\"padding-left: 1em; padding-right: 1em; text-align: center; vertical-align: top\">0.0021</td>\n",
       "        <td style=\"padding-left: 1em; padding-right: 1em; text-align: center; vertical-align: top\">-1</td>\n",
       "        <td style=\"padding-left: 1em; padding-right: 1em; text-align: center; vertical-align: top\">None</td>\n",
       "    </tr>\n",
       "    <tr>\n",
       "        <td style=\"padding-left: 1em; padding-right: 1em; text-align: center; vertical-align: top\">-14.6659</td>\n",
       "        <td style=\"padding-left: 1em; padding-right: 1em; text-align: center; vertical-align: top\">7.3172</td>\n",
       "        <td style=\"padding-left: 1em; padding-right: 1em; text-align: center; vertical-align: top\">19.5</td>\n",
       "        <td style=\"padding-left: 1em; padding-right: 1em; text-align: center; vertical-align: top\">-1</td>\n",
       "        <td style=\"padding-left: 1em; padding-right: 1em; text-align: center; vertical-align: top\">16.0</td>\n",
       "        <td style=\"padding-left: 1em; padding-right: 1em; text-align: center; vertical-align: top\">-1</td>\n",
       "        <td style=\"padding-left: 1em; padding-right: 1em; text-align: center; vertical-align: top\">541.94</td>\n",
       "        <td style=\"padding-left: 1em; padding-right: 1em; text-align: center; vertical-align: top\">12.32</td>\n",
       "        <td style=\"padding-left: 1em; padding-right: 1em; text-align: center; vertical-align: top\">3.31</td>\n",
       "        <td style=\"padding-left: 1em; padding-right: 1em; text-align: center; vertical-align: top\">1.95</td>\n",
       "        <td style=\"padding-left: 1em; padding-right: 1em; text-align: center; vertical-align: top\">0.009</td>\n",
       "        <td style=\"padding-left: 1em; padding-right: 1em; text-align: center; vertical-align: top\">0.0036</td>\n",
       "        <td style=\"padding-left: 1em; padding-right: 1em; text-align: center; vertical-align: top\">-1</td>\n",
       "        <td style=\"padding-left: 1em; padding-right: 1em; text-align: center; vertical-align: top\">None</td>\n",
       "    </tr>\n",
       "    <tr>\n",
       "        <td style=\"padding-left: 1em; padding-right: 1em; text-align: center; vertical-align: top\">85.2145</td>\n",
       "        <td style=\"padding-left: 1em; padding-right: 1em; text-align: center; vertical-align: top\">0.0925</td>\n",
       "        <td style=\"padding-left: 1em; padding-right: 1em; text-align: center; vertical-align: top\">54.6</td>\n",
       "        <td style=\"padding-left: 1em; padding-right: 1em; text-align: center; vertical-align: top\">1</td>\n",
       "        <td style=\"padding-left: 1em; padding-right: 1em; text-align: center; vertical-align: top\">19.0</td>\n",
       "        <td style=\"padding-left: 1em; padding-right: 1em; text-align: center; vertical-align: top\">-1</td>\n",
       "        <td style=\"padding-left: 1em; padding-right: 1em; text-align: center; vertical-align: top\">521.99</td>\n",
       "        <td style=\"padding-left: 1em; padding-right: 1em; text-align: center; vertical-align: top\">16.0</td>\n",
       "        <td style=\"padding-left: 1em; padding-right: 1em; text-align: center; vertical-align: top\">57.25</td>\n",
       "        <td style=\"padding-left: 1em; padding-right: 1em; text-align: center; vertical-align: top\">1.78</td>\n",
       "        <td style=\"padding-left: 1em; padding-right: 1em; text-align: center; vertical-align: top\">0.1097</td>\n",
       "        <td style=\"padding-left: 1em; padding-right: 1em; text-align: center; vertical-align: top\">0.0048</td>\n",
       "        <td style=\"padding-left: 1em; padding-right: 1em; text-align: center; vertical-align: top\">1</td>\n",
       "        <td style=\"padding-left: 1em; padding-right: 1em; text-align: center; vertical-align: top\">57.9738</td>\n",
       "    </tr>\n",
       "    <tr>\n",
       "        <td style=\"padding-left: 1em; padding-right: 1em; text-align: center; vertical-align: top\">-82.4367</td>\n",
       "        <td style=\"padding-left: 1em; padding-right: 1em; text-align: center; vertical-align: top\">0.4102</td>\n",
       "        <td style=\"padding-left: 1em; padding-right: 1em; text-align: center; vertical-align: top\">19.0</td>\n",
       "        <td style=\"padding-left: 1em; padding-right: 1em; text-align: center; vertical-align: top\">-1</td>\n",
       "        <td style=\"padding-left: 1em; padding-right: 1em; text-align: center; vertical-align: top\">18.0</td>\n",
       "        <td style=\"padding-left: 1em; padding-right: 1em; text-align: center; vertical-align: top\">-1</td>\n",
       "        <td style=\"padding-left: 1em; padding-right: 1em; text-align: center; vertical-align: top\">507.93</td>\n",
       "        <td style=\"padding-left: 1em; padding-right: 1em; text-align: center; vertical-align: top\">10.39</td>\n",
       "        <td style=\"padding-left: 1em; padding-right: 1em; text-align: center; vertical-align: top\">11.37</td>\n",
       "        <td style=\"padding-left: 1em; padding-right: 1em; text-align: center; vertical-align: top\">1.6</td>\n",
       "        <td style=\"padding-left: 1em; padding-right: 1em; text-align: center; vertical-align: top\">0.0224</td>\n",
       "        <td style=\"padding-left: 1em; padding-right: 1em; text-align: center; vertical-align: top\">0.0032</td>\n",
       "        <td style=\"padding-left: 1em; padding-right: 1em; text-align: center; vertical-align: top\">1</td>\n",
       "        <td style=\"padding-left: 1em; padding-right: 1em; text-align: center; vertical-align: top\">68.9805</td>\n",
       "    </tr>\n",
       "    <tr>\n",
       "        <td style=\"padding-left: 1em; padding-right: 1em; text-align: center; vertical-align: top\">-8.6207</td>\n",
       "        <td style=\"padding-left: 1em; padding-right: 1em; text-align: center; vertical-align: top\">0.7808</td>\n",
       "        <td style=\"padding-left: 1em; padding-right: 1em; text-align: center; vertical-align: top\">18.5</td>\n",
       "        <td style=\"padding-left: 1em; padding-right: 1em; text-align: center; vertical-align: top\">-1</td>\n",
       "        <td style=\"padding-left: 1em; padding-right: 1em; text-align: center; vertical-align: top\">17.0</td>\n",
       "        <td style=\"padding-left: 1em; padding-right: 1em; text-align: center; vertical-align: top\">-1</td>\n",
       "        <td style=\"padding-left: 1em; padding-right: 1em; text-align: center; vertical-align: top\">627.05</td>\n",
       "        <td style=\"padding-left: 1em; padding-right: 1em; text-align: center; vertical-align: top\">13.03</td>\n",
       "        <td style=\"padding-left: 1em; padding-right: 1em; text-align: center; vertical-align: top\">6.99</td>\n",
       "        <td style=\"padding-left: 1em; padding-right: 1em; text-align: center; vertical-align: top\">1.73</td>\n",
       "        <td style=\"padding-left: 1em; padding-right: 1em; text-align: center; vertical-align: top\">0.0111</td>\n",
       "        <td style=\"padding-left: 1em; padding-right: 1em; text-align: center; vertical-align: top\">0.0028</td>\n",
       "        <td style=\"padding-left: 1em; padding-right: 1em; text-align: center; vertical-align: top\">1</td>\n",
       "        <td style=\"padding-left: 1em; padding-right: 1em; text-align: center; vertical-align: top\">-9.4064</td>\n",
       "    </tr>\n",
       "</table>\n",
       "<table frame=\"box\" rules=\"cols\">\n",
       "    <tr>\n",
       "        <th style=\"padding-left: 1em; padding-right: 1em; text-align: center\">X27</th>\n",
       "        <th style=\"padding-left: 1em; padding-right: 1em; text-align: center\">X28</th>\n",
       "        <th style=\"padding-left: 1em; padding-right: 1em; text-align: center\">X29</th>\n",
       "        <th style=\"padding-left: 1em; padding-right: 1em; text-align: center\">X30</th>\n",
       "        <th style=\"padding-left: 1em; padding-right: 1em; text-align: center\">X31</th>\n",
       "        <th style=\"padding-left: 1em; padding-right: 1em; text-align: center\">X32</th>\n",
       "        <th style=\"padding-left: 1em; padding-right: 1em; text-align: center\">X33</th>\n",
       "        <th style=\"padding-left: 1em; padding-right: 1em; text-align: center\">X34</th>\n",
       "        <th style=\"padding-left: 1em; padding-right: 1em; text-align: center\">X35</th>\n",
       "        <th style=\"padding-left: 1em; padding-right: 1em; text-align: center\">X36</th>\n",
       "        <th style=\"padding-left: 1em; padding-right: 1em; text-align: center\">X37</th>\n",
       "        <th style=\"padding-left: 1em; padding-right: 1em; text-align: center\">X38</th>\n",
       "        <th style=\"padding-left: 1em; padding-right: 1em; text-align: center\">X39</th>\n",
       "        <th style=\"padding-left: 1em; padding-right: 1em; text-align: center\">X40</th>\n",
       "        <th style=\"padding-left: 1em; padding-right: 1em; text-align: center\">...</th>\n",
       "    </tr>\n",
       "    <tr>\n",
       "        <td style=\"padding-left: 1em; padding-right: 1em; text-align: center; vertical-align: top\">5.4703</td>\n",
       "        <td style=\"padding-left: 1em; padding-right: 1em; text-align: center; vertical-align: top\">-0.33</td>\n",
       "        <td style=\"padding-left: 1em; padding-right: 1em; text-align: center; vertical-align: top\">0.05</td>\n",
       "        <td style=\"padding-left: 1em; padding-right: 1em; text-align: center; vertical-align: top\">0.33</td>\n",
       "        <td style=\"padding-left: 1em; padding-right: 1em; text-align: center; vertical-align: top\">0.07</td>\n",
       "        <td style=\"padding-left: 1em; padding-right: 1em; text-align: center; vertical-align: top\">-0.7</td>\n",
       "        <td style=\"padding-left: 1em; padding-right: 1em; text-align: center; vertical-align: top\">3.05</td>\n",
       "        <td style=\"padding-left: 1em; padding-right: 1em; text-align: center; vertical-align: top\">-5.91</td>\n",
       "        <td style=\"padding-left: 1em; padding-right: 1em; text-align: center; vertical-align: top\">3.33</td>\n",
       "        <td style=\"padding-left: 1em; padding-right: 1em; text-align: center; vertical-align: top\">-5.21</td>\n",
       "        <td style=\"padding-left: 1em; padding-right: 1em; text-align: center; vertical-align: top\">4.51</td>\n",
       "        <td style=\"padding-left: 1em; padding-right: 1em; text-align: center; vertical-align: top\">21.9</td>\n",
       "        <td style=\"padding-left: 1em; padding-right: 1em; text-align: center; vertical-align: top\">33</td>\n",
       "        <td style=\"padding-left: 1em; padding-right: 1em; text-align: center; vertical-align: top\">1.328</td>\n",
       "        <td style=\"padding-left: 1em; padding-right: 1em; text-align: center; vertical-align: top\">...</td>\n",
       "    </tr>\n",
       "    <tr>\n",
       "        <td style=\"padding-left: 1em; padding-right: 1em; text-align: center; vertical-align: top\">1.1876</td>\n",
       "        <td style=\"padding-left: 1em; padding-right: 1em; text-align: center; vertical-align: top\">-1.14</td>\n",
       "        <td style=\"padding-left: 1em; padding-right: 1em; text-align: center; vertical-align: top\">0.05</td>\n",
       "        <td style=\"padding-left: 1em; padding-right: 1em; text-align: center; vertical-align: top\">1.26</td>\n",
       "        <td style=\"padding-left: 1em; padding-right: 1em; text-align: center; vertical-align: top\">0.07</td>\n",
       "        <td style=\"padding-left: 1em; padding-right: 1em; text-align: center; vertical-align: top\">16.0</td>\n",
       "        <td style=\"padding-left: 1em; padding-right: 1em; text-align: center; vertical-align: top\">1.46</td>\n",
       "        <td style=\"padding-left: 1em; padding-right: 1em; text-align: center; vertical-align: top\">22.61</td>\n",
       "        <td style=\"padding-left: 1em; padding-right: 1em; text-align: center; vertical-align: top\">0.73</td>\n",
       "        <td style=\"padding-left: 1em; padding-right: 1em; text-align: center; vertical-align: top\">6.61</td>\n",
       "        <td style=\"padding-left: 1em; padding-right: 1em; text-align: center; vertical-align: top\">1.63</td>\n",
       "        <td style=\"padding-left: 1em; padding-right: 1em; text-align: center; vertical-align: top\">18.4</td>\n",
       "        <td style=\"padding-left: 1em; padding-right: 1em; text-align: center; vertical-align: top\">33</td>\n",
       "        <td style=\"padding-left: 1em; padding-right: 1em; text-align: center; vertical-align: top\">None</td>\n",
       "        <td style=\"padding-left: 1em; padding-right: 1em; text-align: center; vertical-align: top\">...</td>\n",
       "    </tr>\n",
       "    <tr>\n",
       "        <td style=\"padding-left: 1em; padding-right: 1em; text-align: center; vertical-align: top\">0.54</td>\n",
       "        <td style=\"padding-left: 1em; padding-right: 1em; text-align: center; vertical-align: top\">-1.0</td>\n",
       "        <td style=\"padding-left: 1em; padding-right: 1em; text-align: center; vertical-align: top\">0.04</td>\n",
       "        <td style=\"padding-left: 1em; padding-right: 1em; text-align: center; vertical-align: top\">1.19</td>\n",
       "        <td style=\"padding-left: 1em; padding-right: 1em; text-align: center; vertical-align: top\">0.04</td>\n",
       "        <td style=\"padding-left: 1em; padding-right: 1em; text-align: center; vertical-align: top\">1.4</td>\n",
       "        <td style=\"padding-left: 1em; padding-right: 1em; text-align: center; vertical-align: top\">1.22</td>\n",
       "        <td style=\"padding-left: 1em; padding-right: 1em; text-align: center; vertical-align: top\">3.65</td>\n",
       "        <td style=\"padding-left: 1em; padding-right: 1em; text-align: center; vertical-align: top\">0.33</td>\n",
       "        <td style=\"padding-left: 1em; padding-right: 1em; text-align: center; vertical-align: top\">2.25</td>\n",
       "        <td style=\"padding-left: 1em; padding-right: 1em; text-align: center; vertical-align: top\">1.26</td>\n",
       "        <td style=\"padding-left: 1em; padding-right: 1em; text-align: center; vertical-align: top\">21.9</td>\n",
       "        <td style=\"padding-left: 1em; padding-right: 1em; text-align: center; vertical-align: top\">31</td>\n",
       "        <td style=\"padding-left: 1em; padding-right: 1em; text-align: center; vertical-align: top\">None</td>\n",
       "        <td style=\"padding-left: 1em; padding-right: 1em; text-align: center; vertical-align: top\">...</td>\n",
       "    </tr>\n",
       "    <tr>\n",
       "        <td style=\"padding-left: 1em; padding-right: 1em; text-align: center; vertical-align: top\">None</td>\n",
       "        <td style=\"padding-left: 1em; padding-right: 1em; text-align: center; vertical-align: top\">1.1</td>\n",
       "        <td style=\"padding-left: 1em; padding-right: 1em; text-align: center; vertical-align: top\">0.05</td>\n",
       "        <td style=\"padding-left: 1em; padding-right: 1em; text-align: center; vertical-align: top\">0.99</td>\n",
       "        <td style=\"padding-left: 1em; padding-right: 1em; text-align: center; vertical-align: top\">0.0</td>\n",
       "        <td style=\"padding-left: 1em; padding-right: 1em; text-align: center; vertical-align: top\">None</td>\n",
       "        <td style=\"padding-left: 1em; padding-right: 1em; text-align: center; vertical-align: top\">None</td>\n",
       "        <td style=\"padding-left: 1em; padding-right: 1em; text-align: center; vertical-align: top\">None</td>\n",
       "        <td style=\"padding-left: 1em; padding-right: 1em; text-align: center; vertical-align: top\">None</td>\n",
       "        <td style=\"padding-left: 1em; padding-right: 1em; text-align: center; vertical-align: top\">None</td>\n",
       "        <td style=\"padding-left: 1em; padding-right: 1em; text-align: center; vertical-align: top\">None</td>\n",
       "        <td style=\"padding-left: 1em; padding-right: 1em; text-align: center; vertical-align: top\">None</td>\n",
       "        <td style=\"padding-left: 1em; padding-right: 1em; text-align: center; vertical-align: top\">None</td>\n",
       "        <td style=\"padding-left: 1em; padding-right: 1em; text-align: center; vertical-align: top\">None</td>\n",
       "        <td style=\"padding-left: 1em; padding-right: 1em; text-align: center; vertical-align: top\">...</td>\n",
       "    </tr>\n",
       "    <tr>\n",
       "        <td style=\"padding-left: 1em; padding-right: 1em; text-align: center; vertical-align: top\">None</td>\n",
       "        <td style=\"padding-left: 1em; padding-right: 1em; text-align: center; vertical-align: top\">1.66</td>\n",
       "        <td style=\"padding-left: 1em; padding-right: 1em; text-align: center; vertical-align: top\">0.05</td>\n",
       "        <td style=\"padding-left: 1em; padding-right: 1em; text-align: center; vertical-align: top\">0.44</td>\n",
       "        <td style=\"padding-left: 1em; padding-right: 1em; text-align: center; vertical-align: top\">0.0</td>\n",
       "        <td style=\"padding-left: 1em; padding-right: 1em; text-align: center; vertical-align: top\">None</td>\n",
       "        <td style=\"padding-left: 1em; padding-right: 1em; text-align: center; vertical-align: top\">None</td>\n",
       "        <td style=\"padding-left: 1em; padding-right: 1em; text-align: center; vertical-align: top\">None</td>\n",
       "        <td style=\"padding-left: 1em; padding-right: 1em; text-align: center; vertical-align: top\">None</td>\n",
       "        <td style=\"padding-left: 1em; padding-right: 1em; text-align: center; vertical-align: top\">None</td>\n",
       "        <td style=\"padding-left: 1em; padding-right: 1em; text-align: center; vertical-align: top\">None</td>\n",
       "        <td style=\"padding-left: 1em; padding-right: 1em; text-align: center; vertical-align: top\">None</td>\n",
       "        <td style=\"padding-left: 1em; padding-right: 1em; text-align: center; vertical-align: top\">None</td>\n",
       "        <td style=\"padding-left: 1em; padding-right: 1em; text-align: center; vertical-align: top\">0.9903</td>\n",
       "        <td style=\"padding-left: 1em; padding-right: 1em; text-align: center; vertical-align: top\">...</td>\n",
       "    </tr>\n",
       "    <tr>\n",
       "        <td style=\"padding-left: 1em; padding-right: 1em; text-align: center; vertical-align: top\">None</td>\n",
       "        <td style=\"padding-left: 1em; padding-right: 1em; text-align: center; vertical-align: top\">1.2</td>\n",
       "        <td style=\"padding-left: 1em; padding-right: 1em; text-align: center; vertical-align: top\">0.05</td>\n",
       "        <td style=\"padding-left: 1em; padding-right: 1em; text-align: center; vertical-align: top\">0.22</td>\n",
       "        <td style=\"padding-left: 1em; padding-right: 1em; text-align: center; vertical-align: top\">0.0</td>\n",
       "        <td style=\"padding-left: 1em; padding-right: 1em; text-align: center; vertical-align: top\">None</td>\n",
       "        <td style=\"padding-left: 1em; padding-right: 1em; text-align: center; vertical-align: top\">None</td>\n",
       "        <td style=\"padding-left: 1em; padding-right: 1em; text-align: center; vertical-align: top\">None</td>\n",
       "        <td style=\"padding-left: 1em; padding-right: 1em; text-align: center; vertical-align: top\">None</td>\n",
       "        <td style=\"padding-left: 1em; padding-right: 1em; text-align: center; vertical-align: top\">None</td>\n",
       "        <td style=\"padding-left: 1em; padding-right: 1em; text-align: center; vertical-align: top\">None</td>\n",
       "        <td style=\"padding-left: 1em; padding-right: 1em; text-align: center; vertical-align: top\">None</td>\n",
       "        <td style=\"padding-left: 1em; padding-right: 1em; text-align: center; vertical-align: top\">None</td>\n",
       "        <td style=\"padding-left: 1em; padding-right: 1em; text-align: center; vertical-align: top\">None</td>\n",
       "        <td style=\"padding-left: 1em; padding-right: 1em; text-align: center; vertical-align: top\">...</td>\n",
       "    </tr>\n",
       "    <tr>\n",
       "        <td style=\"padding-left: 1em; padding-right: 1em; text-align: center; vertical-align: top\">None</td>\n",
       "        <td style=\"padding-left: 1em; padding-right: 1em; text-align: center; vertical-align: top\">0.08</td>\n",
       "        <td style=\"padding-left: 1em; padding-right: 1em; text-align: center; vertical-align: top\">0.05</td>\n",
       "        <td style=\"padding-left: 1em; padding-right: 1em; text-align: center; vertical-align: top\">4.05</td>\n",
       "        <td style=\"padding-left: 1em; padding-right: 1em; text-align: center; vertical-align: top\">0.0</td>\n",
       "        <td style=\"padding-left: 1em; padding-right: 1em; text-align: center; vertical-align: top\">None</td>\n",
       "        <td style=\"padding-left: 1em; padding-right: 1em; text-align: center; vertical-align: top\">None</td>\n",
       "        <td style=\"padding-left: 1em; padding-right: 1em; text-align: center; vertical-align: top\">None</td>\n",
       "        <td style=\"padding-left: 1em; padding-right: 1em; text-align: center; vertical-align: top\">None</td>\n",
       "        <td style=\"padding-left: 1em; padding-right: 1em; text-align: center; vertical-align: top\">None</td>\n",
       "        <td style=\"padding-left: 1em; padding-right: 1em; text-align: center; vertical-align: top\">None</td>\n",
       "        <td style=\"padding-left: 1em; padding-right: 1em; text-align: center; vertical-align: top\">None</td>\n",
       "        <td style=\"padding-left: 1em; padding-right: 1em; text-align: center; vertical-align: top\">None</td>\n",
       "        <td style=\"padding-left: 1em; padding-right: 1em; text-align: center; vertical-align: top\">None</td>\n",
       "        <td style=\"padding-left: 1em; padding-right: 1em; text-align: center; vertical-align: top\">...</td>\n",
       "    </tr>\n",
       "    <tr>\n",
       "        <td style=\"padding-left: 1em; padding-right: 1em; text-align: center; vertical-align: top\">0.8412</td>\n",
       "        <td style=\"padding-left: 1em; padding-right: 1em; text-align: center; vertical-align: top\">-0.98</td>\n",
       "        <td style=\"padding-left: 1em; padding-right: 1em; text-align: center; vertical-align: top\">0.06</td>\n",
       "        <td style=\"padding-left: 1em; padding-right: 1em; text-align: center; vertical-align: top\">0.91</td>\n",
       "        <td style=\"padding-left: 1em; padding-right: 1em; text-align: center; vertical-align: top\">0.05</td>\n",
       "        <td style=\"padding-left: 1em; padding-right: 1em; text-align: center; vertical-align: top\">13.3</td>\n",
       "        <td style=\"padding-left: 1em; padding-right: 1em; text-align: center; vertical-align: top\">0.98</td>\n",
       "        <td style=\"padding-left: 1em; padding-right: 1em; text-align: center; vertical-align: top\">16.54</td>\n",
       "        <td style=\"padding-left: 1em; padding-right: 1em; text-align: center; vertical-align: top\">0.51</td>\n",
       "        <td style=\"padding-left: 1em; padding-right: 1em; text-align: center; vertical-align: top\">3.24</td>\n",
       "        <td style=\"padding-left: 1em; padding-right: 1em; text-align: center; vertical-align: top\">1.1</td>\n",
       "        <td style=\"padding-left: 1em; padding-right: 1em; text-align: center; vertical-align: top\">5.5</td>\n",
       "        <td style=\"padding-left: 1em; padding-right: 1em; text-align: center; vertical-align: top\">27</td>\n",
       "        <td style=\"padding-left: 1em; padding-right: 1em; text-align: center; vertical-align: top\">0.1076</td>\n",
       "        <td style=\"padding-left: 1em; padding-right: 1em; text-align: center; vertical-align: top\">...</td>\n",
       "    </tr>\n",
       "    <tr>\n",
       "        <td style=\"padding-left: 1em; padding-right: 1em; text-align: center; vertical-align: top\">3.9227</td>\n",
       "        <td style=\"padding-left: 1em; padding-right: 1em; text-align: center; vertical-align: top\">-1.06</td>\n",
       "        <td style=\"padding-left: 1em; padding-right: 1em; text-align: center; vertical-align: top\">0.05</td>\n",
       "        <td style=\"padding-left: 1em; padding-right: 1em; text-align: center; vertical-align: top\">0.86</td>\n",
       "        <td style=\"padding-left: 1em; padding-right: 1em; text-align: center; vertical-align: top\">0.13</td>\n",
       "        <td style=\"padding-left: 1em; padding-right: 1em; text-align: center; vertical-align: top\">14.1</td>\n",
       "        <td style=\"padding-left: 1em; padding-right: 1em; text-align: center; vertical-align: top\">4.27</td>\n",
       "        <td style=\"padding-left: 1em; padding-right: 1em; text-align: center; vertical-align: top\">17.35</td>\n",
       "        <td style=\"padding-left: 1em; padding-right: 1em; text-align: center; vertical-align: top\">2.39</td>\n",
       "        <td style=\"padding-left: 1em; padding-right: 1em; text-align: center; vertical-align: top\">3.25</td>\n",
       "        <td style=\"padding-left: 1em; padding-right: 1em; text-align: center; vertical-align: top\">4.9</td>\n",
       "        <td style=\"padding-left: 1em; padding-right: 1em; text-align: center; vertical-align: top\">4.7</td>\n",
       "        <td style=\"padding-left: 1em; padding-right: 1em; text-align: center; vertical-align: top\">36</td>\n",
       "        <td style=\"padding-left: 1em; padding-right: 1em; text-align: center; vertical-align: top\">None</td>\n",
       "        <td style=\"padding-left: 1em; padding-right: 1em; text-align: center; vertical-align: top\">...</td>\n",
       "    </tr>\n",
       "    <tr>\n",
       "        <td style=\"padding-left: 1em; padding-right: 1em; text-align: center; vertical-align: top\">6.8684</td>\n",
       "        <td style=\"padding-left: 1em; padding-right: 1em; text-align: center; vertical-align: top\">-0.98</td>\n",
       "        <td style=\"padding-left: 1em; padding-right: 1em; text-align: center; vertical-align: top\">0.05</td>\n",
       "        <td style=\"padding-left: 1em; padding-right: 1em; text-align: center; vertical-align: top\">1.29</td>\n",
       "        <td style=\"padding-left: 1em; padding-right: 1em; text-align: center; vertical-align: top\">0.33</td>\n",
       "        <td style=\"padding-left: 1em; padding-right: 1em; text-align: center; vertical-align: top\">5.9</td>\n",
       "        <td style=\"padding-left: 1em; padding-right: 1em; text-align: center; vertical-align: top\">7.93</td>\n",
       "        <td style=\"padding-left: 1em; padding-right: 1em; text-align: center; vertical-align: top\">0.48</td>\n",
       "        <td style=\"padding-left: 1em; padding-right: 1em; text-align: center; vertical-align: top\">4.2</td>\n",
       "        <td style=\"padding-left: 1em; padding-right: 1em; text-align: center; vertical-align: top\">-5.42</td>\n",
       "        <td style=\"padding-left: 1em; padding-right: 1em; text-align: center; vertical-align: top\">8.97</td>\n",
       "        <td style=\"padding-left: 1em; padding-right: 1em; text-align: center; vertical-align: top\">4.1</td>\n",
       "        <td style=\"padding-left: 1em; padding-right: 1em; text-align: center; vertical-align: top\">36</td>\n",
       "        <td style=\"padding-left: 1em; padding-right: 1em; text-align: center; vertical-align: top\">None</td>\n",
       "        <td style=\"padding-left: 1em; padding-right: 1em; text-align: center; vertical-align: top\">...</td>\n",
       "    </tr>\n",
       "</table>\n",
       "[533 rows x 49 columns]<br/>Note: Only the head of the SFrame is printed.<br/>You can use print_rows(num_rows=m, num_columns=n) to print more rows and columns.\n",
       "</div>"
      ],
      "text/plain": [
       "Columns:\n",
       "\tX1\tstr\n",
       "\tX2\tfloat\n",
       "\tX3\tfloat\n",
       "\tX4\tfloat\n",
       "\tX5\tfloat\n",
       "\tX6\tfloat\n",
       "\tX7\tfloat\n",
       "\tX8\tfloat\n",
       "\tX9\tfloat\n",
       "\tX10\tfloat\n",
       "\tX11\tfloat\n",
       "\tX12\tint\n",
       "\tX13\tfloat\n",
       "\tX14\tfloat\n",
       "\tX15\tfloat\n",
       "\tX16\tint\n",
       "\tX17\tfloat\n",
       "\tX18\tint\n",
       "\tX19\tfloat\n",
       "\tX20\tfloat\n",
       "\tX21\tfloat\n",
       "\tX22\tfloat\n",
       "\tX23\tfloat\n",
       "\tX24\tfloat\n",
       "\tX25\tint\n",
       "\tX26\tfloat\n",
       "\tX27\tfloat\n",
       "\tX28\tfloat\n",
       "\tX29\tfloat\n",
       "\tX30\tfloat\n",
       "\tX31\tfloat\n",
       "\tX32\tfloat\n",
       "\tX33\tfloat\n",
       "\tX34\tfloat\n",
       "\tX35\tfloat\n",
       "\tX36\tfloat\n",
       "\tX37\tfloat\n",
       "\tX38\tfloat\n",
       "\tX39\tint\n",
       "\tX40\tfloat\n",
       "\tX41\tfloat\n",
       "\tX42\tfloat\n",
       "\tX43\tfloat\n",
       "\tX44\tfloat\n",
       "\tX45\tfloat\n",
       "\tX46\tfloat\n",
       "\tX47\tfloat\n",
       "\tX48\tfloat\n",
       "\tX49\tfloat\n",
       "\n",
       "Rows: 533\n",
       "\n",
       "Data:\n",
       "+----------------+----------+-----------+-----------+-----------+---------+\n",
       "|       X1       |    X2    |     X3    |     X4    |     X5    |    X6   |\n",
       "+----------------+----------+-----------+-----------+-----------+---------+\n",
       "| J043736-295405 | 69.40246 | -29.90147 | 230.26648 |  -40.7423 | 1124.77 |\n",
       "| J043300-295613 | 68.25158 | -29.93694 | 230.05385 | -41.72754 | 1116.89 |\n",
       "| J045514-300647 | 73.80962 | -30.11311 | 231.56537 |  -37.0562 | 3446.27 |\n",
       "| J001035-302745 | 2.64867  | -30.46275 |  10.08143 | -80.45551 |  347.27 |\n",
       "| J235935-313341 | 359.8978 | -31.56164 |  8.40692  | -77.87329 |  350.48 |\n",
       "| J001259-395425 | 3.24979  | -39.90714 | 332.45776 | -74.93929 |  493.6  |\n",
       "| J000020-322059 | 0.08471  | -32.34972 |  4.64173  | -77.75222 |  520.9  |\n",
       "| J010403-395023 | 16.01592 | -39.83972 | 292.08127 | -77.02134 |  850.21 |\n",
       "| J001217-332157 | 3.07483  | -33.36606 | 354.11316 |  -79.5038 |  857.65 |\n",
       "| J010925-344715 | 17.35683 | -34.78758 | 277.33636 | -81.42731 | 1020.57 |\n",
       "+----------------+----------+-----------+-----------+-----------+---------+\n",
       "+-------+--------+------+--------+--------+-----+----------+--------+------+-----+\n",
       "|   X7  |   X8   |  X9  |  X10   |  X11   | X12 |   X13    |  X14   | X15  | X16 |\n",
       "+-------+--------+------+--------+--------+-----+----------+--------+------+-----+\n",
       "|  38.2 |  34.1  | 0.3  | 0.0303 | 0.0011 |  1  | -43.445  | 0.2772 | 17.2 |  1  |\n",
       "|  36.4 | 63.66  | 0.3  | 0.057  | 0.0019 |  1  | -89.5095 | 0.1395 | 37.0 |  1  |\n",
       "| 107.6 | 140.08 | 0.32 | 0.0406 | 0.0013 |  1  | -83.8585 | 0.0674 | 61.1 |  1  |\n",
       "|  9.5  |  2.87  | 0.31 | 0.0083 | 0.0009 |  1  | 62.0097  | 3.1054 | 17.4 |  -1 |\n",
       "|  10.4 |  5.21  | 0.29 | 0.0149 | 0.0009 |  1  | -45.4939 | 1.6462 | 18.1 |  -1 |\n",
       "|  17.4 | 12.24  | 0.31 | 0.0248 | 0.0011 |  1  | -66.5239 | 0.7239 | 14.4 |  1  |\n",
       "|  15.6 |  1.16  | 0.31 | 0.0022 | 0.0006 |  1  | -14.6659 | 7.3172 | 19.5 |  -1 |\n",
       "|  24.1 | 102.35 | 0.35 | 0.1204 | 0.0034 |  1  | 85.2145  | 0.0925 | 54.6 |  1  |\n",
       "|  25.5 |  22.3  | 0.31 | 0.026  | 0.0009 |  1  | -82.4367 | 0.4102 | 19.0 |  -1 |\n",
       "|  30.6 |  8.8   | 0.24 | 0.0086 | 0.0003 |  1  | -8.6207  | 0.7808 | 18.5 |  -1 |\n",
       "+-------+--------+------+--------+--------+-----+----------+--------+------+-----+\n",
       "+------+-----+---------+-------+-----+\n",
       "| X17  | X18 |   X19   |  X20  | ... |\n",
       "+------+-----+---------+-------+-----+\n",
       "| 16.0 |  -1 |  953.27 | 13.25 | ... |\n",
       "| 18.0 |  -1 |  634.77 | 11.82 | ... |\n",
       "| 17.0 |  -1 | 2100.51 | 10.75 | ... |\n",
       "| 15.0 |  -1 |  598.41 | 12.21 | ... |\n",
       "| 16.0 |  -1 |  799.86 | 14.64 | ... |\n",
       "| 17.0 |  -1 |  896.93 | 10.68 | ... |\n",
       "| 16.0 |  -1 |  541.94 | 12.32 | ... |\n",
       "| 19.0 |  -1 |  521.99 |  16.0 | ... |\n",
       "| 18.0 |  -1 |  507.93 | 10.39 | ... |\n",
       "| 17.0 |  -1 |  627.05 | 13.03 | ... |\n",
       "+------+-----+---------+-------+-----+\n",
       "[533 rows x 49 columns]\n",
       "Note: Only the head of the SFrame is printed.\n",
       "You can use print_rows(num_rows=m, num_columns=n) to print more rows and columns."
      ]
     },
     "execution_count": 18,
     "metadata": {},
     "output_type": "execute_result"
    }
   ],
   "source": [
    "All2"
   ]
  },
  {
   "cell_type": "code",
   "execution_count": 29,
   "metadata": {
    "collapsed": false
   },
   "outputs": [],
   "source": [
    "med= All2['X39'].to_numpy()\n",
    "id=np.where(med > 0)"
   ]
  },
  {
   "cell_type": "code",
   "execution_count": 33,
   "metadata": {
    "collapsed": false
   },
   "outputs": [
    {
     "name": "stdout",
     "output_type": "stream",
     "text": [
      "54\n"
     ]
    }
   ],
   "source": [
    "print np.argmin(med[id])"
   ]
  },
  {
   "cell_type": "code",
   "execution_count": 34,
   "metadata": {
    "collapsed": false
   },
   "outputs": [
    {
     "data": {
      "text/plain": [
       "dtype: float\n",
       "Rows: 533\n",
       "[-43.445, -89.5095, -83.8585, 62.0097, -45.4939, -66.5239, -14.6659, 85.2145, -82.4367, -8.6207, 64.2203, -13.6426, -83.1072, 12.2603, 26.3997, -24.0813, -89.9204, 82.8141, 7.1885, -69.7181, -13.2184, 85.5728, -25.4614, 71.0369, 14.6975, 60.8941, 76.2334, -71.8799, 38.2048, 21.7633, -73.5392, 74.8434, -2.2834, 38.2353, -89.2718, 40.5002, -26.3618, -10.3008, 49.8981, -58.5125, 47.0958, 36.8025, -61.4085, 62.2934, 26.611, 9.0173, -86.5925, 24.0341, None, -52.2716, 45.5985, 82.5564, 36.3061, -64.5652, 27.5839, 10.0018, 5.0204, 14.2445, 1.9145, -53.6257, 60.1494, -61.8512, 54.2175, 68.2498, -77.4325, -27.3466, 33.3878, 84.3016, 9.1349, -4.9593, -22.1933, 45.2287, 16.9372, 15.4387, 75.1212, -25.866, 10.9185, -62.9245, 18.5146, 75.0929, 43.7003, -12.4548, None, 79.1868, -37.6582, -35.8446, 49.3372, 10.3521, -78.049, -15.4587, -1.819, 82.5948, -79.8189, -6.6897, 57.9271, 76.6039, 74.0615, 77.6517, 18.7926, -1.6043, ... ]"
      ]
     },
     "execution_count": 34,
     "metadata": {},
     "output_type": "execute_result"
    }
   ],
   "source": [
    "All2['X13']"
   ]
  },
  {
   "cell_type": "code",
   "execution_count": null,
   "metadata": {
    "collapsed": true
   },
   "outputs": [],
   "source": []
  }
 ],
 "metadata": {
  "kernelspec": {
   "display_name": "Python 2",
   "language": "python",
   "name": "python2"
  },
  "language_info": {
   "codemirror_mode": {
    "name": "ipython",
    "version": 2
   },
   "file_extension": ".py",
   "mimetype": "text/x-python",
   "name": "python",
   "nbconvert_exporter": "python",
   "pygments_lexer": "ipython2",
   "version": "2.7.11"
  }
 },
 "nbformat": 4,
 "nbformat_minor": 0
}
